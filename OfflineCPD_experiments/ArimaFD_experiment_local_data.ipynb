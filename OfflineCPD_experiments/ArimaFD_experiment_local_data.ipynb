{
 "cells": [
  {
   "cell_type": "code",
   "execution_count": 4,
   "metadata": {
    "colab": {
     "base_uri": "https://localhost:8080/"
    },
    "id": "nSUOd1IhDFcP",
    "outputId": "7e73db5f-b731-44a2-dd92-4a22a24c43bb"
   },
   "outputs": [
    {
     "name": "stdout",
     "output_type": "stream",
     "text": [
      "Looking in indexes: https://pypi.org/simple, https://us-python.pkg.dev/colab-wheels/public/simple/\n",
      "Collecting tsad\n",
      "  Downloading tsad-0.18.7-py3-none-any.whl (37 kB)\n",
      "Requirement already satisfied: numpy>=1.19.5 in /usr/local/lib/python3.7/dist-packages (from tsad) (1.21.6)\n",
      "Requirement already satisfied: pandas>=1.0.1 in /usr/local/lib/python3.7/dist-packages (from tsad) (1.3.5)\n",
      "Requirement already satisfied: matplotlib>=3.1.3 in /usr/local/lib/python3.7/dist-packages (from tsad) (3.2.2)\n",
      "Requirement already satisfied: scikit-learn>=0.24.1 in /usr/local/lib/python3.7/dist-packages (from tsad) (1.0.2)\n",
      "Requirement already satisfied: torch>=1.10.0 in /usr/local/lib/python3.7/dist-packages (from tsad) (1.12.1+cu113)\n",
      "Requirement already satisfied: kiwisolver>=1.0.1 in /usr/local/lib/python3.7/dist-packages (from matplotlib>=3.1.3->tsad) (1.4.4)\n",
      "Requirement already satisfied: cycler>=0.10 in /usr/local/lib/python3.7/dist-packages (from matplotlib>=3.1.3->tsad) (0.11.0)\n",
      "Requirement already satisfied: pyparsing!=2.0.4,!=2.1.2,!=2.1.6,>=2.0.1 in /usr/local/lib/python3.7/dist-packages (from matplotlib>=3.1.3->tsad) (3.0.9)\n",
      "Requirement already satisfied: python-dateutil>=2.1 in /usr/local/lib/python3.7/dist-packages (from matplotlib>=3.1.3->tsad) (2.8.2)\n",
      "Requirement already satisfied: typing-extensions in /usr/local/lib/python3.7/dist-packages (from kiwisolver>=1.0.1->matplotlib>=3.1.3->tsad) (4.1.1)\n",
      "Requirement already satisfied: pytz>=2017.3 in /usr/local/lib/python3.7/dist-packages (from pandas>=1.0.1->tsad) (2022.5)\n",
      "Requirement already satisfied: six>=1.5 in /usr/local/lib/python3.7/dist-packages (from python-dateutil>=2.1->matplotlib>=3.1.3->tsad) (1.15.0)\n",
      "Requirement already satisfied: scipy>=1.1.0 in /usr/local/lib/python3.7/dist-packages (from scikit-learn>=0.24.1->tsad) (1.7.3)\n",
      "Requirement already satisfied: joblib>=0.11 in /usr/local/lib/python3.7/dist-packages (from scikit-learn>=0.24.1->tsad) (1.2.0)\n",
      "Requirement already satisfied: threadpoolctl>=2.0.0 in /usr/local/lib/python3.7/dist-packages (from scikit-learn>=0.24.1->tsad) (3.1.0)\n",
      "Installing collected packages: tsad\n",
      "Successfully installed tsad-0.18.7\n"
     ]
    }
   ],
   "source": [
    "pip install tsad\n"
   ]
  },
  {
   "cell_type": "code",
   "execution_count": 2,
   "metadata": {
    "colab": {
     "base_uri": "https://localhost:8080/"
    },
    "id": "Cd1FCUpp0Q1P",
    "outputId": "a8c8fc12-acd5-44e9-b0f8-dd3f6c029eab"
   },
   "outputs": [
    {
     "name": "stdout",
     "output_type": "stream",
     "text": [
      "Defaulting to user installation because normal site-packages is not writeable\n",
      "Collecting arimafd\n",
      "  Downloading arimafd-1.4.1-py3-none-any.whl (11 kB)\n",
      "Collecting sklearn\n",
      "  Downloading sklearn-0.0.post1.tar.gz (3.6 kB)\n",
      "  Preparing metadata (setup.py) ... \u001b[?25ldone\n",
      "\u001b[?25hCollecting sympy\n",
      "  Downloading sympy-1.11.1-py3-none-any.whl (6.5 MB)\n",
      "\u001b[2K     \u001b[38;2;114;156;31m━━━━━━━━━━━━━━━━━━━━━━━━━━━━━━━━━━━━━━━━\u001b[0m \u001b[32m6.5/6.5 MB\u001b[0m \u001b[31m1.0 MB/s\u001b[0m eta \u001b[36m0:00:00\u001b[0mm eta \u001b[36m0:00:01\u001b[0m[36m0:00:01\u001b[0m\n",
      "\u001b[?25hRequirement already satisfied: pandas in /home/gishb/.local/lib/python3.10/site-packages (from arimafd) (1.5.3)\n",
      "Requirement already satisfied: numpy in /home/gishb/.local/lib/python3.10/site-packages (from arimafd) (1.23.5)\n",
      "Requirement already satisfied: statsmodels in /home/gishb/.local/lib/python3.10/site-packages (from arimafd) (0.13.5)\n",
      "Requirement already satisfied: python-dateutil>=2.8.1 in /home/gishb/.local/lib/python3.10/site-packages (from pandas->arimafd) (2.8.2)\n",
      "Requirement already satisfied: pytz>=2020.1 in /usr/lib/python3/dist-packages (from pandas->arimafd) (2022.1)\n",
      "Requirement already satisfied: packaging>=21.3 in /home/gishb/.local/lib/python3.10/site-packages (from statsmodels->arimafd) (23.0)\n",
      "Requirement already satisfied: scipy>=1.3 in /home/gishb/.local/lib/python3.10/site-packages (from statsmodels->arimafd) (1.10.1)\n",
      "Requirement already satisfied: patsy>=0.5.2 in /home/gishb/.local/lib/python3.10/site-packages (from statsmodels->arimafd) (0.5.3)\n",
      "Collecting mpmath>=0.19\n",
      "  Downloading mpmath-1.3.0-py3-none-any.whl (536 kB)\n",
      "\u001b[2K     \u001b[38;2;114;156;31m━━━━━━━━━━━━━━━━━━━━━━━━━━━━━━━━━━━━━\u001b[0m \u001b[32m536.2/536.2 KB\u001b[0m \u001b[31m585.4 kB/s\u001b[0m eta \u001b[36m0:00:00\u001b[0mm eta \u001b[36m0:00:01\u001b[0m0:01\u001b[0m:01\u001b[0m\n",
      "\u001b[?25hRequirement already satisfied: six in /usr/lib/python3/dist-packages (from patsy>=0.5.2->statsmodels->arimafd) (1.16.0)\n",
      "Building wheels for collected packages: sklearn\n",
      "  Building wheel for sklearn (setup.py) ... \u001b[?25ldone\n",
      "\u001b[?25h  Created wheel for sklearn: filename=sklearn-0.0.post1-py3-none-any.whl size=2344 sha256=4c998fa3db0d1d34624e9b1095a90920c44e8d464fd86ea1cfbe4d3005740a12\n",
      "  Stored in directory: /home/gishb/.cache/pip/wheels/c5/88/35/cc8a1e198b27a1d3d9d3f9b30090b9d5531778847835472ec4\n",
      "Successfully built sklearn\n",
      "Installing collected packages: sklearn, mpmath, sympy, arimafd\n",
      "Successfully installed arimafd-1.4.1 mpmath-1.3.0 sklearn-0.0.post1 sympy-1.11.1\n",
      "Note: you may need to restart the kernel to use updated packages.\n"
     ]
    }
   ],
   "source": [
    "pip install arimafd"
   ]
  },
  {
   "cell_type": "code",
   "execution_count": 3,
   "metadata": {},
   "outputs": [
    {
     "name": "stdout",
     "output_type": "stream",
     "text": [
      "Defaulting to user installation because normal site-packages is not writeable\n",
      "Requirement already satisfied: sympy in /home/gishb/.local/lib/python3.10/site-packages (1.11.1)\n",
      "Requirement already satisfied: mpmath>=0.19 in /home/gishb/.local/lib/python3.10/site-packages (from sympy) (1.3.0)\n",
      "Note: you may need to restart the kernel to use updated packages.\n"
     ]
    }
   ],
   "source": [
    "pip install sympy"
   ]
  },
  {
   "cell_type": "code",
   "execution_count": 4,
   "metadata": {
    "id": "8b_AIng8DMcf"
   },
   "outputs": [],
   "source": [
    "# libraries importing\n",
    "import pandas as pd\n",
    "import matplotlib.pyplot as plt\n",
    "%matplotlib inline\n",
    "\n",
    "from io import StringIO\n",
    "import requests\n",
    "from tsad.evaluating.evaluating import evaluating\n",
    "import os\n",
    "\n",
    "# libraries importing\n",
    "import pandas as pd\n",
    "import numpy as np\n",
    "from numpy import linalg\n",
    "import matplotlib.pyplot as plt\n",
    "import pickle\n",
    "from itertools import product\n",
    "from sympy import diff, symbols, sympify, Symbol, poly\n",
    "from sklearn.preprocessing import MinMaxScaler, StandardScaler\n",
    "from time import time\n",
    "import matplotlib.gridspec as gridspec\n",
    "\n",
    "# additional modules\n",
    "import sys\n",
    "sys.path.append('../utils')"
   ]
  },
  {
   "cell_type": "code",
   "execution_count": 5,
   "metadata": {
    "id": "ZX1Ze3I1EYww"
   },
   "outputs": [],
   "source": [
    "from arimafd import *\n",
    "import os"
   ]
  },
  {
   "cell_type": "code",
   "execution_count": 6,
   "metadata": {
    "id": "E6kccd1-DGSf"
   },
   "outputs": [],
   "source": [
    "def dataframe_expirement(i):\n",
    "    if i == 1:\n",
    "        url = \"https://storage.yandexcloud.net/cloud-files-public/dataframe.csv\" \n",
    "        df = pd.read_csv(StringIO(requests.get(url).content.decode('utf-8')), sep='|')\n",
    "    else:\n",
    "        url = \"https://storage.yandexcloud.net/cloud-files-public/noname_ECG_2022.csv\" \n",
    "        df = pd.read_csv(StringIO(requests.get(url).content.decode('utf-8')), sep=',')\n",
    "    return df"
   ]
  },
  {
   "cell_type": "code",
   "execution_count": 7,
   "metadata": {},
   "outputs": [],
   "source": [
    "df = dataframe_expirement(1)\n",
    "df = df[df[df.columns[0]] == 'xxxAA684G']\n",
    "\n",
    "df.replace(['-9999', -9999,'missing','#'], np.nan, inplace=True)\n",
    "df = df[df['unitless'].notna()]\n",
    "df = df[df['uR/h'].notna()]\n",
    "df_ = df.drop(axis=1, labels=(df.columns[0])) \\\n",
    "    .drop(axis=1, labels=(df.columns[1]))[['uR/h', 'unitless']].reset_index(drop=True)"
   ]
  },
  {
   "cell_type": "code",
   "execution_count": 8,
   "metadata": {
    "id": "HSvV9Gr_DIAA"
   },
   "outputs": [],
   "source": [
    "# ts_data_1, ts_data_2 = dataframe_expirement(1), dataframe_expirement(0).iloc[2500:].reset_index().drop(labels='index',axis=1)"
   ]
  },
  {
   "cell_type": "code",
   "execution_count": 9,
   "metadata": {},
   "outputs": [],
   "source": [
    "ts_data_1 = df_"
   ]
  },
  {
   "cell_type": "code",
   "execution_count": 10,
   "metadata": {
    "id": "hvGCbEfrDLiQ"
   },
   "outputs": [],
   "source": [
    "from scipy.signal import find_peaks"
   ]
  },
  {
   "cell_type": "code",
   "execution_count": 11,
   "metadata": {
    "id": "BGfPXIa7DVL-"
   },
   "outputs": [],
   "source": [
    "def plot_data_scores_and_selected_window(ts, score_list, window_size_selected):\n",
    "    f, ax = plt.subplots(2, 1, figsize=(30, 20))\n",
    "    ax[0].plot(ts)\n",
    "    ax[0].vlines(x=window_size_selected, ymin=min(ts), ymax=max(ts),\n",
    "        linestyle = ':',\n",
    "        linewidth = 6,\n",
    "        color = 'darkblue')\n",
    "    ax[0].set_title(\"ts\")\n",
    "    ax[1].plot(score_list, \"r\")\n",
    "    ax[1].set_title(\"score\")\n",
    "    f.show()"
   ]
  },
  {
   "cell_type": "code",
   "execution_count": 13,
   "metadata": {
    "colab": {
     "base_uri": "https://localhost:8080/",
     "height": 727
    },
    "id": "5S_5gzXdDWcU",
    "outputId": "ff840299-7c93-4d9c-c85c-0b1cbdd7d910"
   },
   "outputs": [
    {
     "name": "stdout",
     "output_type": "stream",
     "text": [
      "A number of datasets: 2\n",
      "\n",
      "Shape of the well dataset: (10664, 2)\n",
      "\n",
      "A number of datasets: 2\n",
      "\n",
      "Shape of the well dataset: (10664, 3)\n",
      "\n",
      "A number of changepoints in the well dataset: 74\n",
      "\n",
      "Head of the well dataset:\n"
     ]
    },
    {
     "data": {
      "text/html": [
       "<div>\n",
       "<style scoped>\n",
       "    .dataframe tbody tr th:only-of-type {\n",
       "        vertical-align: middle;\n",
       "    }\n",
       "\n",
       "    .dataframe tbody tr th {\n",
       "        vertical-align: top;\n",
       "    }\n",
       "\n",
       "    .dataframe thead th {\n",
       "        text-align: right;\n",
       "    }\n",
       "</style>\n",
       "<table border=\"1\" class=\"dataframe\">\n",
       "  <thead>\n",
       "    <tr style=\"text-align: right;\">\n",
       "      <th></th>\n",
       "      <th>uR/h</th>\n",
       "      <th>unitless</th>\n",
       "      <th>change_points</th>\n",
       "    </tr>\n",
       "  </thead>\n",
       "  <tbody>\n",
       "    <tr>\n",
       "      <th>0</th>\n",
       "      <td>88.625</td>\n",
       "      <td>2.0</td>\n",
       "      <td>0</td>\n",
       "    </tr>\n",
       "    <tr>\n",
       "      <th>1</th>\n",
       "      <td>107.250</td>\n",
       "      <td>2.0</td>\n",
       "      <td>0</td>\n",
       "    </tr>\n",
       "    <tr>\n",
       "      <th>2</th>\n",
       "      <td>108.420</td>\n",
       "      <td>2.0</td>\n",
       "      <td>0</td>\n",
       "    </tr>\n",
       "    <tr>\n",
       "      <th>3</th>\n",
       "      <td>109.590</td>\n",
       "      <td>2.0</td>\n",
       "      <td>0</td>\n",
       "    </tr>\n",
       "    <tr>\n",
       "      <th>4</th>\n",
       "      <td>110.990</td>\n",
       "      <td>2.0</td>\n",
       "      <td>0</td>\n",
       "    </tr>\n",
       "  </tbody>\n",
       "</table>\n",
       "</div>"
      ],
      "text/plain": [
       "      uR/h  unitless  change_points\n",
       "0   88.625       2.0              0\n",
       "1  107.250       2.0              0\n",
       "2  108.420       2.0              0\n",
       "3  109.590       2.0              0\n",
       "4  110.990       2.0              0"
      ]
     },
     "metadata": {},
     "output_type": "display_data"
    }
   ],
   "source": [
    "# dataset characteristics printing\n",
    "print(f'A number of datasets: {2}\\n')\n",
    "print(f'Shape of the well dataset: {ts_data_1.shape}\\n')\n",
    "# print(f'Shape of the medical dataset: {ts_data_2.shape}\\n')\n",
    "cp_1 = []\n",
    "temp_value_second = 0\n",
    "for i in range(len(ts_data_1)):\n",
    "    temp_value = ts_data_1['unitless'][i]\n",
    "    if temp_value != temp_value_second:\n",
    "        cp_1.append(1)\n",
    "    else:\n",
    "        cp_1.append(0)\n",
    "    temp_value_second = temp_value\n",
    "cp_1[0] = 0\n",
    "# cp_2 = []\n",
    "# peaks, _ = find_peaks(ts_data_2['EcgWaveform'], distance=250)\n",
    "# for i in range(len(ts_data_2)):\n",
    "#     if i not in peaks:\n",
    "#         cp_2.append(0)\n",
    "#     else:\n",
    "#         cp_2.append(1)\n",
    "ts_data_1['change_points'] = cp_1\n",
    "# ts_data_2['change_points'] = cp_2\n",
    "print(f'A number of datasets: {2}\\n')\n",
    "print(f'Shape of the well dataset: {ts_data_1.shape}\\n')\n",
    "# print(f'Shape of the medical dataset: {ts_data_2.shape}\\n')\n",
    "n_cp_1 = cp_1.count(1)\n",
    "# n_cp_2 = cp_2.count(1)\n",
    "print(f'A number of changepoints in the well dataset: {n_cp_1}\\n')\n",
    "# print(f'A number of changepoints in the medical dataset: {n_cp_2}\\n')\n",
    "print(f'Head of the well dataset:')\n",
    "display(ts_data_1.head())\n",
    "# print(f'Head of the well dataset:')\n",
    "# display(ts_data_2.head())"
   ]
  },
  {
   "cell_type": "code",
   "execution_count": 14,
   "metadata": {
    "colab": {
     "base_uri": "https://localhost:8080/",
     "height": 404
    },
    "id": "xczyrTkuDYlS",
    "outputId": "7cca7a2d-6bf1-4ddd-acd9-9dcb587588a0"
   },
   "outputs": [
    {
     "data": {
      "image/png": "[encoded data removed]",
      "text/plain": [
       "<Figure size 1200x600 with 1 Axes>"
      ]
     },
     "metadata": {},
     "output_type": "display_data"
    }
   ],
   "source": [
    "# well dataset visualizing\n",
    "ts_data_1.plot(figsize=(12,6))\n",
    "plt.xlabel('Time')\n",
    "plt.ylabel('Value')\n",
    "plt.title('Signals')\n",
    "plt.show()"
   ]
  },
  {
   "cell_type": "code",
   "execution_count": 15,
   "metadata": {
    "colab": {
     "base_uri": "https://localhost:8080/",
     "height": 404
    },
    "id": "GWvl8nZmDa5N",
    "outputId": "cb997114-f776-4023-e062-3d784e56aff1"
   },
   "outputs": [],
   "source": [
    "# # medical dataset visualizing\n",
    "# ts_data_2.plot(figsize=(12,6))\n",
    "# plt.xlabel('Time')\n",
    "# plt.ylabel('Value')\n",
    "# plt.title('Signals')\n",
    "# plt.show()"
   ]
  },
  {
   "cell_type": "code",
   "execution_count": 17,
   "metadata": {
    "id": "JC3k0iG3DcRQ"
   },
   "outputs": [],
   "source": [
    "# list_of_df = [ts_data_1[['change_points','uR/h','ohmm']], ts_data_2.drop('Time', axis=1)]\n",
    "list_of_df = df_"
   ]
  },
  {
   "cell_type": "code",
   "execution_count": 19,
   "metadata": {
    "id": "8rUuQCvuNiYG"
   },
   "outputs": [],
   "source": [
    "from datetime import datetime, timedelta"
   ]
  },
  {
   "cell_type": "code",
   "execution_count": 22,
   "metadata": {
    "id": "osHememkNmQa"
   },
   "outputs": [],
   "source": [
    "t_0 = np.arange(len(list_of_df)).astype('datetime64[s]')\n",
    "# t_1 = np.arange(len(list_of_df[1])).astype('datetime64[s]')"
   ]
  },
  {
   "cell_type": "code",
   "execution_count": 24,
   "metadata": {
    "id": "GiQuj4X3SV5m"
   },
   "outputs": [],
   "source": [
    "list_of_df =list_of_df.set_index(t_0)\n",
    "# list_of_df[1]=list_of_df[1].set_index(t_1)\n"
   ]
  },
  {
   "cell_type": "code",
   "execution_count": 26,
   "metadata": {
    "id": "gKNuSAwSV8S5"
   },
   "outputs": [],
   "source": [
    "# true_cp = [df.change_points for df in list_of_df]\n",
    "true_cp = df_.change_points"
   ]
  },
  {
   "cell_type": "code",
   "execution_count": 27,
   "metadata": {
    "id": "7yH6BXMDPpC9"
   },
   "outputs": [],
   "source": [
    "from datetime import datetime, timedelta"
   ]
  },
  {
   "cell_type": "code",
   "execution_count": 29,
   "metadata": {
    "colab": {
     "base_uri": "https://localhost:8080/"
    },
    "id": "ftzyScloDd5A",
    "outputId": "fbbcb4b4-f600-44e4-d689-3e4ce5a622b0"
   },
   "outputs": [
    {
     "name": "stderr",
     "output_type": "stream",
     "text": [
      "/home/gishb/.local/lib/python3.10/site-packages/arimafd/tanh.py:140: FutureWarning: The frame.append method is deprecated and will be removed from pandas in a future version. Use pandas.concat instead.\n",
      "  self.ww=self.ww.append([self.w], ignore_index=True)\n",
      "/home/gishb/.local/lib/python3.10/site-packages/arimafd/tanh.py:141: FutureWarning: The frame.append method is deprecated and will be removed from pandas in a future version. Use pandas.concat instead.\n",
      "  self.dif_w = self.dif_w.append([self.diff], ignore_index=True)\n"
     ]
    },
    {
     "name": "stdout",
     "output_type": "stream",
     "text": [
      "Time seconds: 57.21248173713684\n",
      "Time seconds: 63.111825942993164\n",
      "CPU times: user 2min, sys: 103 ms, total: 2min\n",
      "Wall time: 2min\n"
     ]
    }
   ],
   "source": [
    "%%time\n",
    "if os.path.exists(r'tensors.pickle'):\n",
    "    with open(r'tensors.pickle', 'rb') as f:\n",
    "        tensors = pickle.load(f)\n",
    "else:\n",
    "    tensors = []\n",
    "#     for df in list_of_df:\n",
    "    a = Anomaly_detection(df_.drop(columns=['change_points']))\n",
    "    tensors.append(a.generate_tensor(ar_order=100))\n",
    "    with open(r'tensors.pickle', 'wb') as handle:\n",
    "        pickle.dump(tensors, handle, protocol=pickle.HIGHEST_PROTOCOL)"
   ]
  },
  {
   "cell_type": "code",
   "execution_count": 36,
   "metadata": {
    "colab": {
     "base_uri": "https://localhost:8080/"
    },
    "id": "n6b3xUMSDfvg",
    "outputId": "f22e2474-c526-4527-83cc-fde9840d1fc0"
   },
   "outputs": [
    {
     "name": "stdout",
     "output_type": "stream",
     "text": [
      "XXX 1 20 20\n",
      "XXX 1 20 50\n",
      "XXX 1 20 100\n",
      "XXX 1 20 150\n",
      "XXX 1 50 20\n",
      "XXX 1 50 50\n",
      "XXX 1 50 100\n",
      "XXX 1 50 150\n",
      "XXX 1 100 20\n",
      "XXX 1 100 50\n",
      "XXX 1 100 100\n",
      "XXX 1 100 150\n",
      "XXX 1 150 20\n",
      "XXX 1 150 50\n",
      "XXX 1 150 100\n",
      "XXX 1 150 150\n",
      "XXX 2 20 20\n",
      "XXX 2 20 50\n",
      "XXX 2 20 100\n",
      "XXX 2 20 150\n",
      "XXX 2 50 20\n",
      "XXX 2 50 50\n",
      "XXX 2 50 100\n",
      "XXX 2 50 150\n",
      "XXX 2 100 20\n",
      "XXX 2 100 50\n",
      "XXX 2 100 100\n",
      "XXX 2 100 150\n",
      "XXX 2 150 20\n",
      "XXX 2 150 50\n",
      "XXX 2 150 100\n",
      "XXX 2 150 150\n",
      "XXX 3 20 20\n",
      "XXX 3 20 50\n",
      "XXX 3 20 100\n",
      "XXX 3 20 150\n",
      "XXX 3 50 20\n",
      "XXX 3 50 50\n",
      "XXX 3 50 100\n",
      "XXX 3 50 150\n",
      "XXX 3 100 20\n",
      "XXX 3 100 50\n",
      "XXX 3 100 100\n",
      "XXX 3 100 150\n",
      "XXX 3 150 20\n",
      "XXX 3 150 50\n",
      "XXX 3 150 100\n",
      "XXX 3 150 150\n",
      "XXX 4 20 20\n",
      "XXX 4 20 50\n",
      "XXX 4 20 100\n",
      "XXX 4 20 150\n",
      "XXX 4 50 20\n",
      "XXX 4 50 50\n",
      "XXX 4 50 100\n",
      "XXX 4 50 150\n",
      "XXX 4 100 20\n",
      "XXX 4 100 50\n",
      "XXX 4 100 100\n",
      "XXX 4 100 150\n",
      "XXX 4 150 20\n",
      "XXX 4 150 50\n",
      "XXX 4 150 100\n",
      "XXX 4 150 150\n",
      "XXX 5 20 20\n",
      "XXX 5 20 50\n",
      "XXX 5 20 100\n",
      "XXX 5 20 150\n",
      "XXX 5 50 20\n",
      "XXX 5 50 50\n",
      "XXX 5 50 100\n",
      "XXX 5 50 150\n",
      "XXX 5 100 20\n",
      "XXX 5 100 50\n",
      "XXX 5 100 100\n",
      "XXX 5 100 150\n",
      "XXX 5 150 20\n",
      "XXX 5 150 50\n",
      "XXX 5 150 100\n",
      "XXX 5 150 150\n"
     ]
    }
   ],
   "source": [
    "metrics = range(1,6)\n",
    "windows= [20,50,100,150]\n",
    "window_insensitivitys = [20,50,100,150]\n",
    "history = []\n",
    "from tsad.evaluating.evaluating import evaluating \n",
    "\n",
    "for No_metric,window,window_insensitivity in product(metrics,windows,window_insensitivitys):\n",
    "    print('XXX',No_metric,window,window_insensitivity)\n",
    "    predicted_cp=[]\n",
    "    predicted_cp1 = []\n",
    "#     for i,df in enumerate(list_of_df):\n",
    "\n",
    "    acci = df_.change_points\n",
    "    a = Anomaly_detection(df_)\n",
    "    a.tensor = tensors[i]\n",
    "    a.proc_tensor(No_metric=No_metric, window=window, window_insensitivity=window_insensitivity)\n",
    "    predicted_cp.append(a.bin_metric)\n",
    "#     nab = evaluating(true_cp, predicted_cp[0], metric='nab', numenta_time='30 sec')\n",
    "#     history.append([No_metric, window, window_insensitivity, nab['Standart'], nab['LowFP'], nab['LowFN']])\n",
    "#     print(history)\n",
    "#     print()\n",
    "#     print()\n",
    "history = pd.DataFrame(history, columns=['No_metric','window','window_insensitivity','Standart','LowFP','LowFN'])"
   ]
  },
  {
   "cell_type": "markdown",
   "metadata": {
    "id": "jtEuFrZFIFg9"
   },
   "source": [
    "# Results"
   ]
  },
  {
   "cell_type": "code",
   "execution_count": 38,
   "metadata": {
    "colab": {
     "base_uri": "https://localhost:8080/",
     "height": 234
    },
    "id": "8H5RqFtXIFGh",
    "outputId": "2c981e04-9837-4418-f96e-290331420f2f"
   },
   "outputs": [
    {
     "data": {
      "image/png": "[encoded data removed]",
      "text/plain": [
       "<Figure size 1200x300 with 1 Axes>"
      ]
     },
     "metadata": {},
     "output_type": "display_data"
    }
   ],
   "source": [
    "# true changepoint indices selection\n",
    "# true_cp = [df.change_points for df in list_of_df]\n",
    "true_cp = df_.change_points \n",
    "\n",
    "predicted_cp[0].plot(figsize=(12,3), label='predictions', marker='o', markersize=5)\n",
    "true_cp.plot(marker='o', markersize=2)\n",
    "plt.legend();"
   ]
  },
  {
   "cell_type": "code",
   "execution_count": 39,
   "metadata": {
    "colab": {
     "base_uri": "https://localhost:8080/",
     "height": 234
    },
    "id": "7zwDxc6iILT6",
    "outputId": "0aa52d63-2cb3-4b12-c09d-edac56c0a182"
   },
   "outputs": [],
   "source": [
    "# # true changepoint indices selection\n",
    "# true_cp = [df.change_points for df in list_of_df]\n",
    "\n",
    "# predicted_cp[1].plot(figsize=(12,3), label='predictions', marker='o', markersize=5)\n",
    "# true_cp[1].plot(marker='o', markersize=2)\n",
    "# plt.legend();"
   ]
  },
  {
   "cell_type": "code",
   "execution_count": null,
   "metadata": {
    "id": "XyL7973dItcC"
   },
   "outputs": [],
   "source": []
  },
  {
   "cell_type": "code",
   "execution_count": 40,
   "metadata": {
    "colab": {
     "base_uri": "https://localhost:8080/",
     "height": 295
    },
    "id": "oWGq7shsTFZm",
    "outputId": "76fd0c03-6ebd-4e0a-9cb2-dc0e1e18ea66"
   },
   "outputs": [
    {
     "data": {
      "image/png": "[encoded data removed]",
      "text/plain": [
       "<Figure size 1600x400 with 5 Axes>"
      ]
     },
     "metadata": {},
     "output_type": "display_data"
    }
   ],
   "source": [
    "f = plt.figure(figsize=(16,4))\n",
    "grid = gridspec.GridSpec(1, len(metrics),wspace =0.7)\n",
    "for i in metrics:\n",
    "    globals()['ax'+str(i)] = f.add_subplot(grid[i-1])\n",
    "    history[history.No_metric==i].plot.scatter(x='window',y='window_insensitivity', c='Standart', colormap='viridis',ax=globals()['ax'+str(i)])\n",
    "    globals()['ax'+str(i)].set_title(f\"Metric {i}\")\n",
    "    \n",
    "plt.show()"
   ]
  },
  {
   "cell_type": "code",
   "execution_count": 41,
   "metadata": {
    "id": "2ByJwNfDWu5f"
   },
   "outputs": [
    {
     "ename": "AttributeError",
     "evalue": "'str' object has no attribute 'change_points'",
     "output_type": "error",
     "traceback": [
      "\u001b[0;31m---------------------------------------------------------------------------\u001b[0m",
      "\u001b[0;31mAttributeError\u001b[0m                            Traceback (most recent call last)",
      "Cell \u001b[0;32mIn[41], line 7\u001b[0m\n\u001b[1;32m      5\u001b[0m predicted_cp\u001b[38;5;241m=\u001b[39m[]\n\u001b[1;32m      6\u001b[0m \u001b[38;5;28;01mfor\u001b[39;00m i,df \u001b[38;5;129;01min\u001b[39;00m \u001b[38;5;28menumerate\u001b[39m(list_of_df):\n\u001b[0;32m----> 7\u001b[0m     acci \u001b[38;5;241m=\u001b[39m \u001b[43mdf\u001b[49m\u001b[38;5;241;43m.\u001b[39;49m\u001b[43mchange_points\u001b[49m\n\u001b[1;32m      8\u001b[0m     a \u001b[38;5;241m=\u001b[39m Anomaly_detection(df)\n\u001b[1;32m      9\u001b[0m     a\u001b[38;5;241m.\u001b[39mtensor \u001b[38;5;241m=\u001b[39m tensors[i]\n",
      "\u001b[0;31mAttributeError\u001b[0m: 'str' object has no attribute 'change_points'"
     ]
    }
   ],
   "source": [
    "No_metric= 5\n",
    "window= 150\n",
    "window_insensitivity = 20\n",
    "\n",
    "predicted_cp=[]\n",
    "for i,df in enumerate(list_of_df):\n",
    "    acci = df.change_points\n",
    "    a = Anomaly_detection(df)\n",
    "    a.tensor = tensors[i]\n",
    "    a.proc_tensor(No_metric=No_metric,window=window, window_insensitivity=window_insensitivity)\n",
    "    predicted_cp.append(a.bin_metric)"
   ]
  },
  {
   "cell_type": "markdown",
   "metadata": {
    "id": "azcvJYsZIMkC"
   },
   "source": [
    "# Metrics calculation"
   ]
  },
  {
   "cell_type": "code",
   "execution_count": 42,
   "metadata": {
    "id": "6cRrm-KiW0XQ"
   },
   "outputs": [],
   "source": [
    "from tsad.evaluating.evaluating import evaluating"
   ]
  },
  {
   "cell_type": "code",
   "execution_count": 46,
   "metadata": {
    "colab": {
     "base_uri": "https://localhost:8080/"
    },
    "id": "Z1j4RPpoW3A5",
    "outputId": "c36941fc-faf5-469b-ebfe-ffddd6cbc371"
   },
   "outputs": [
    {
     "ename": "IndexError",
     "evalue": "list index out of range",
     "output_type": "error",
     "traceback": [
      "\u001b[0;31m---------------------------------------------------------------------------\u001b[0m",
      "\u001b[0;31mIndexError\u001b[0m                                Traceback (most recent call last)",
      "Cell \u001b[0;32mIn[46], line 1\u001b[0m\n\u001b[0;32m----> 1\u001b[0m nab \u001b[38;5;241m=\u001b[39m evaluating(true_cp, \u001b[43mpredicted_cp\u001b[49m\u001b[43m[\u001b[49m\u001b[38;5;241;43m0\u001b[39;49m\u001b[43m]\u001b[49m, metric\u001b[38;5;241m=\u001b[39m\u001b[38;5;124m'\u001b[39m\u001b[38;5;124mnab\u001b[39m\u001b[38;5;124m'\u001b[39m, numenta_time\u001b[38;5;241m=\u001b[39m\u001b[38;5;124m'\u001b[39m\u001b[38;5;124m30 sec\u001b[39m\u001b[38;5;124m'\u001b[39m)\n",
      "\u001b[0;31mIndexError\u001b[0m: list index out of range"
     ]
    }
   ],
   "source": [
    "nab = evaluating(true_cp, predicted_cp[0], metric='nab', numenta_time='30 sec')\n"
   ]
  },
  {
   "cell_type": "code",
   "execution_count": 38,
   "metadata": {
    "colab": {
     "base_uri": "https://localhost:8080/"
    },
    "id": "aJS4rE4BW4k7",
    "outputId": "eb513c49-81f8-4106-aca9-97eee8021766"
   },
   "outputs": [
    {
     "name": "stdout",
     "output_type": "stream",
     "text": [
      "Intersection of scoring windows(Timestamp('1970-01-01 00:18:00'), Timestamp('1970-01-01 00:17:54'))\n",
      "Intersection of scoring windows(Timestamp('1970-01-01 00:18:24'), Timestamp('1970-01-01 00:18:16'))\n",
      "Intersection of scoring windows(Timestamp('1970-01-01 00:18:46'), Timestamp('1970-01-01 00:18:31'))\n",
      "Intersection of scoring windows(Timestamp('1970-01-01 00:19:01'), Timestamp('1970-01-01 00:18:45'))\n",
      "Intersection of scoring windows(Timestamp('1970-01-01 00:19:15'), Timestamp('1970-01-01 00:19:01'))\n",
      "Intersection of scoring windows(Timestamp('1970-01-01 00:19:31'), Timestamp('1970-01-01 00:19:13'))\n",
      "Intersection of scoring windows(Timestamp('1970-01-01 00:23:33'), Timestamp('1970-01-01 00:23:25'))\n",
      "Intersection of scoring windows(Timestamp('1970-01-01 00:30:52'), Timestamp('1970-01-01 00:30:47'))\n",
      "Intersection of scoring windows(Timestamp('1970-01-01 00:36:01'), Timestamp('1970-01-01 00:36:01'))\n",
      "Intersection of scoring windows(Timestamp('1970-01-01 00:53:29'), Timestamp('1970-01-01 00:53:17'))\n",
      "Intersection of scoring windows(Timestamp('1970-01-01 00:59:17'), Timestamp('1970-01-01 00:59:05'))\n",
      "Intersection of scoring windows(Timestamp('1970-01-01 01:29:45'), Timestamp('1970-01-01 01:29:32'))\n",
      "Intersection of scoring windows(Timestamp('1970-01-01 02:14:41'), Timestamp('1970-01-01 02:14:40'))\n",
      "Amount of true anomalies 52\n",
      "A number of missed CPs = 49\n",
      "A number of FPs = 11\n",
      "Average time 0 days 00:00:06\n"
     ]
    }
   ],
   "source": [
    "add = evaluating(true_cp[0], predicted_cp[0], metric='average_time', numenta_time='30 sec')"
   ]
  },
  {
   "cell_type": "code",
   "execution_count": 39,
   "metadata": {
    "colab": {
     "base_uri": "https://localhost:8080/"
    },
    "id": "uxFLiA71JRzu",
    "outputId": "1b0a211b-2b7b-46b7-c911-a5961ea13522"
   },
   "outputs": [
    {
     "name": "stdout",
     "output_type": "stream",
     "text": [
      "Standart  -  5.28\n",
      "LowFP  -  1.78\n",
      "LowFN  -  8.02\n"
     ]
    }
   ],
   "source": [
    "nab = evaluating(true_cp[1], predicted_cp[1], metric='nab', numenta_time='30 sec')"
   ]
  },
  {
   "cell_type": "code",
   "execution_count": 40,
   "metadata": {
    "colab": {
     "base_uri": "https://localhost:8080/"
    },
    "id": "Y2DZSARNJTML",
    "outputId": "c1fc9c64-38d4-4583-9866-308327c029e5"
   },
   "outputs": [
    {
     "name": "stdout",
     "output_type": "stream",
     "text": [
      "Amount of true anomalies 37\n",
      "A number of missed CPs = 32\n",
      "A number of FPs = 20\n",
      "Average time 0 days 00:00:10.800000\n"
     ]
    }
   ],
   "source": [
    "add = evaluating(true_cp[1], predicted_cp[1], metric='average_time', numenta_time='30 sec')"
   ]
  },
  {
   "cell_type": "code",
   "execution_count": 7,
   "metadata": {
    "id": "I3mlGvkEJWFP"
   },
   "outputs": [],
   "source": [
    "FPs = 11\n",
    "FPN = 49\n",
    "TP = 52 - 49\n",
    "average_time = 6"
   ]
  },
  {
   "cell_type": "code",
   "execution_count": 8,
   "metadata": {},
   "outputs": [],
   "source": [
    "standart = 1.72"
   ]
  },
  {
   "cell_type": "code",
   "execution_count": 9,
   "metadata": {},
   "outputs": [
    {
     "data": {
      "text/plain": [
       "0.21428571428571427"
      ]
     },
     "execution_count": 9,
     "metadata": {},
     "output_type": "execute_result"
    }
   ],
   "source": [
    "TP /(FPs+TP) # PRECISION"
   ]
  },
  {
   "cell_type": "code",
   "execution_count": 11,
   "metadata": {},
   "outputs": [
    {
     "data": {
      "text/plain": [
       "0.057692307692307696"
      ]
     },
     "execution_count": 11,
     "metadata": {},
     "output_type": "execute_result"
    }
   ],
   "source": [
    "TP/(FPN + TP) # RECALL"
   ]
  },
  {
   "cell_type": "code",
   "execution_count": 12,
   "metadata": {},
   "outputs": [
    {
     "data": {
      "text/plain": [
       "0.08076923076923077"
      ]
     },
     "execution_count": 12,
     "metadata": {},
     "output_type": "execute_result"
    }
   ],
   "source": [
    "2*0.21*0.05/(0.05+0.21)"
   ]
  },
  {
   "cell_type": "code",
   "execution_count": null,
   "metadata": {},
   "outputs": [],
   "source": []
  }
 ],
 "metadata": {
  "colab": {
   "collapsed_sections": [],
   "provenance": []
  },
  "kernelspec": {
   "display_name": "Python 3 (ipykernel)",
   "language": "python",
   "name": "python3"
  },
  "language_info": {
   "codemirror_mode": {
    "name": "ipython",
    "version": 3
   },
   "file_extension": ".py",
   "mimetype": "text/x-python",
   "name": "python",
   "nbconvert_exporter": "python",
   "pygments_lexer": "ipython3",
   "version": "3.10.6"
  }
 },
 "nbformat": 4,
 "nbformat_minor": 1
}
