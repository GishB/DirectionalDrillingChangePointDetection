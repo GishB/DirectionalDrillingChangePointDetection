{
 "cells": [
  {
   "cell_type": "markdown",
   "id": "c6f0b87b",
   "metadata": {},
   "source": [
    "# Import libraries"
   ]
  },
  {
   "cell_type": "code",
   "execution_count": 10,
   "id": "25e083e8",
   "metadata": {},
   "outputs": [],
   "source": [
    "import sys\n",
    "import os\n",
    "sys.path.append(os.path.abspath(\"..\"))\n",
    "\n",
    "import libs_cpd\n",
    "import datareader.data as dtest\n",
    "import models.kalman as kalman\n",
    "import create_report as crtest\n",
    "import optimization.functions as optf"
   ]
  },
  {
   "cell_type": "code",
   "execution_count": 14,
   "id": "31d49b66",
   "metadata": {},
   "outputs": [],
   "source": [
    "import streamlit"
   ]
  },
  {
   "cell_type": "code",
   "execution_count": 15,
   "id": "3c7d425a",
   "metadata": {},
   "outputs": [],
   "source": [
    "streamlit.line_chart?"
   ]
  },
  {
   "cell_type": "markdown",
   "id": "60121a95",
   "metadata": {},
   "source": [
    "# Import data"
   ]
  },
  {
   "cell_type": "code",
   "execution_count": 11,
   "id": "252cb3a0",
   "metadata": {},
   "outputs": [
    {
     "name": "stdout",
     "output_type": "stream",
     "text": [
      "['https://storage.yandexcloud.net/cloud-files-public/229G_las_files.csv', 'https://storage.yandexcloud.net/cloud-files-public/231G_las_files.csv', 'https://storage.yandexcloud.net/cloud-files-public/237G_las_files.csv']\n"
     ]
    }
   ],
   "source": [
    "print(dtest.list_links)"
   ]
  },
  {
   "cell_type": "code",
   "execution_count": 12,
   "id": "df6939f2",
   "metadata": {},
   "outputs": [
    {
     "data": {
      "text/html": [
       "<div>\n",
       "<style scoped>\n",
       "    .dataframe tbody tr th:only-of-type {\n",
       "        vertical-align: middle;\n",
       "    }\n",
       "\n",
       "    .dataframe tbody tr th {\n",
       "        vertical-align: top;\n",
       "    }\n",
       "\n",
       "    .dataframe thead th {\n",
       "        text-align: right;\n",
       "    }\n",
       "</style>\n",
       "<table border=\"1\" class=\"dataframe\">\n",
       "  <thead>\n",
       "    <tr style=\"text-align: right;\">\n",
       "      <th></th>\n",
       "      <th>GR</th>\n",
       "      <th>Resist_long</th>\n",
       "      <th>Resist_short</th>\n",
       "      <th>DrillingSpeed</th>\n",
       "      <th>LITHOLOGY</th>\n",
       "      <th>CPs</th>\n",
       "    </tr>\n",
       "    <tr>\n",
       "      <th>time</th>\n",
       "      <th></th>\n",
       "      <th></th>\n",
       "      <th></th>\n",
       "      <th></th>\n",
       "      <th></th>\n",
       "      <th></th>\n",
       "    </tr>\n",
       "  </thead>\n",
       "  <tbody>\n",
       "    <tr>\n",
       "      <th>1970-01-01 00:00:00</th>\n",
       "      <td>126.895</td>\n",
       "      <td>3.616</td>\n",
       "      <td>0.0</td>\n",
       "      <td>26.227</td>\n",
       "      <td>0.0</td>\n",
       "      <td>0.0</td>\n",
       "    </tr>\n",
       "    <tr>\n",
       "      <th>1970-01-01 00:00:01</th>\n",
       "      <td>126.466</td>\n",
       "      <td>3.158</td>\n",
       "      <td>0.0</td>\n",
       "      <td>23.762</td>\n",
       "      <td>0.0</td>\n",
       "      <td>0.0</td>\n",
       "    </tr>\n",
       "    <tr>\n",
       "      <th>1970-01-01 00:00:02</th>\n",
       "      <td>125.576</td>\n",
       "      <td>2.907</td>\n",
       "      <td>0.0</td>\n",
       "      <td>21.297</td>\n",
       "      <td>0.0</td>\n",
       "      <td>0.0</td>\n",
       "    </tr>\n",
       "    <tr>\n",
       "      <th>1970-01-01 00:00:03</th>\n",
       "      <td>127.400</td>\n",
       "      <td>2.863</td>\n",
       "      <td>0.0</td>\n",
       "      <td>21.330</td>\n",
       "      <td>0.0</td>\n",
       "      <td>0.0</td>\n",
       "    </tr>\n",
       "    <tr>\n",
       "      <th>1970-01-01 00:00:04</th>\n",
       "      <td>129.225</td>\n",
       "      <td>3.027</td>\n",
       "      <td>0.0</td>\n",
       "      <td>21.363</td>\n",
       "      <td>0.0</td>\n",
       "      <td>0.0</td>\n",
       "    </tr>\n",
       "  </tbody>\n",
       "</table>\n",
       "</div>"
      ],
      "text/plain": [
       "                          GR  Resist_long  Resist_short  DrillingSpeed   \n",
       "time                                                                     \n",
       "1970-01-01 00:00:00  126.895        3.616           0.0         26.227  \\\n",
       "1970-01-01 00:00:01  126.466        3.158           0.0         23.762   \n",
       "1970-01-01 00:00:02  125.576        2.907           0.0         21.297   \n",
       "1970-01-01 00:00:03  127.400        2.863           0.0         21.330   \n",
       "1970-01-01 00:00:04  129.225        3.027           0.0         21.363   \n",
       "\n",
       "                     LITHOLOGY  CPs  \n",
       "time                                 \n",
       "1970-01-01 00:00:00        0.0  0.0  \n",
       "1970-01-01 00:00:01        0.0  0.0  \n",
       "1970-01-01 00:00:02        0.0  0.0  \n",
       "1970-01-01 00:00:03        0.0  0.0  \n",
       "1970-01-01 00:00:04        0.0  0.0  "
      ]
     },
     "execution_count": 12,
     "metadata": {},
     "output_type": "execute_result"
    }
   ],
   "source": [
    "df = dtest.df_expirement(dtest.list_links[0])\n",
    "df.head()"
   ]
  },
  {
   "cell_type": "markdown",
   "id": "187ed663",
   "metadata": {},
   "source": [
    "# Preprocessing data"
   ]
  },
  {
   "cell_type": "code",
   "execution_count": 4,
   "id": "80ebc205",
   "metadata": {},
   "outputs": [],
   "source": [
    "window_length_savgol = libs_cpd.WindowSizeSelection(time_series = list(df.GR),\n",
    "                                       wss_algorithm = 'summary_statistics_subsequence').get_window_size()[0]\n",
    "norm_filter_gr = optf.normalization_linear(optf.filter_Savgol(df.Resist_short, window_length_savgol))\n",
    "window_length = libs_cpd.WindowSizeSelection(time_series = norm_filter_gr,\n",
    "                                       wss_algorithm = 'dominant_fourier_frequency', window_max=1000, window_min=50).get_window_size()[0]"
   ]
  },
  {
   "cell_type": "markdown",
   "id": "e207ba42",
   "metadata": {},
   "source": [
    "# Kalman Filter block"
   ]
  },
  {
   "cell_type": "code",
   "execution_count": 5,
   "id": "4b9a6148",
   "metadata": {},
   "outputs": [],
   "source": [
    "cps_list_kalman = kalman.online_detection(list(df['GR']), window=window_length, queue_window=11, treshold_coef=5)\n",
    "df['cps_kalman'] = cps_list_kalman"
   ]
  },
  {
   "cell_type": "markdown",
   "id": "79030828",
   "metadata": {},
   "source": [
    "# Create report"
   ]
  },
  {
   "cell_type": "code",
   "execution_count": 6,
   "id": "6051235b",
   "metadata": {},
   "outputs": [
    {
     "data": {
      "text/plain": [
       "<matplotlib.legend.Legend at 0x7fa2be4e02e0>"
      ]
     },
     "execution_count": 6,
     "metadata": {},
     "output_type": "execute_result"
    },
    {
     "data": {
      "image/png": "[encoded data removed]",
      "text/plain": [
       "<Figure size 1200x300 with 1 Axes>"
      ]
     },
     "metadata": {},
     "output_type": "display_data"
    }
   ],
   "source": [
    "libs_cpd.plt.figure(figsize=(12,3))\n",
    "libs_cpd.plt.plot(list(df.CPs), label='original CPs')\n",
    "libs_cpd.plt.plot(cps_list_kalman,label='predicted CPs')\n",
    "libs_cpd.plt.legend(loc=\"center right\" , bbox_to_anchor=(1.18, 0.5))"
   ]
  },
  {
   "cell_type": "code",
   "execution_count": 7,
   "id": "114a84c6",
   "metadata": {},
   "outputs": [],
   "source": [
    "%%capture --no-display\n",
    "tsad_average_results = crtest.tsad_average(df.cps_kalman, df.CPs)"
   ]
  },
  {
   "cell_type": "code",
   "execution_count": 8,
   "id": "9d3e0140",
   "metadata": {},
   "outputs": [],
   "source": [
    "%%capture --no-display\n",
    "tsad_nab_results = crtest.tsad_nab(df.cps_kalman, df.CPs)"
   ]
  },
  {
   "cell_type": "code",
   "execution_count": 9,
   "id": "ca8ebf16",
   "metadata": {},
   "outputs": [
    {
     "data": {
      "text/html": [
       "<div>\n",
       "<style scoped>\n",
       "    .dataframe tbody tr th:only-of-type {\n",
       "        vertical-align: middle;\n",
       "    }\n",
       "\n",
       "    .dataframe tbody tr th {\n",
       "        vertical-align: top;\n",
       "    }\n",
       "\n",
       "    .dataframe thead th {\n",
       "        text-align: right;\n",
       "    }\n",
       "</style>\n",
       "<table border=\"1\" class=\"dataframe\">\n",
       "  <thead>\n",
       "    <tr style=\"text-align: right;\">\n",
       "      <th></th>\n",
       "      <th>0</th>\n",
       "    </tr>\n",
       "  </thead>\n",
       "  <tbody>\n",
       "    <tr>\n",
       "      <th>Standart</th>\n",
       "      <td>-18.50</td>\n",
       "    </tr>\n",
       "    <tr>\n",
       "      <th>LowFP</th>\n",
       "      <td>-37.00</td>\n",
       "    </tr>\n",
       "    <tr>\n",
       "      <th>LowFN</th>\n",
       "      <td>-12.33</td>\n",
       "    </tr>\n",
       "    <tr>\n",
       "      <th>Time_Delta</th>\n",
       "      <td>0.00</td>\n",
       "    </tr>\n",
       "    <tr>\n",
       "      <th>Missed_CP</th>\n",
       "      <td>11.00</td>\n",
       "    </tr>\n",
       "    <tr>\n",
       "      <th>FPs</th>\n",
       "      <td>37.00</td>\n",
       "    </tr>\n",
       "    <tr>\n",
       "      <th>True_Anomalies_Count</th>\n",
       "      <td>11.00</td>\n",
       "    </tr>\n",
       "    <tr>\n",
       "      <th>precision</th>\n",
       "      <td>0.00</td>\n",
       "    </tr>\n",
       "    <tr>\n",
       "      <th>recall</th>\n",
       "      <td>0.00</td>\n",
       "    </tr>\n",
       "    <tr>\n",
       "      <th>F1</th>\n",
       "      <td>0.00</td>\n",
       "    </tr>\n",
       "  </tbody>\n",
       "</table>\n",
       "</div>"
      ],
      "text/plain": [
       "                          0\n",
       "Standart             -18.50\n",
       "LowFP                -37.00\n",
       "LowFN                -12.33\n",
       "Time_Delta             0.00\n",
       "Missed_CP             11.00\n",
       "FPs                   37.00\n",
       "True_Anomalies_Count  11.00\n",
       "precision              0.00\n",
       "recall                 0.00\n",
       "F1                     0.00"
      ]
     },
     "execution_count": 9,
     "metadata": {},
     "output_type": "execute_result"
    }
   ],
   "source": [
    "tsad_nab_results.update(tsad_average_results)\n",
    "crtest.create_report(tsad_nab_results)"
   ]
  }
 ],
 "metadata": {
  "kernelspec": {
   "display_name": "Python 3 (ipykernel)",
   "language": "python",
   "name": "python3"
  },
  "language_info": {
   "codemirror_mode": {
    "name": "ipython",
    "version": 3
   },
   "file_extension": ".py",
   "mimetype": "text/x-python",
   "name": "python",
   "nbconvert_exporter": "python",
   "pygments_lexer": "ipython3",
   "version": "3.10.6"
  }
 },
 "nbformat": 4,
 "nbformat_minor": 5
}
