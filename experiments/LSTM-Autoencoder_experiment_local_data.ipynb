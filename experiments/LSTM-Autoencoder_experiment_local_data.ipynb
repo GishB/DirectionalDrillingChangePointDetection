{
 "cells": [
  {
   "cell_type": "markdown",
   "id": "0ad64ada",
   "metadata": {},
   "source": [
    "# Pipeline for the anomaly detection on the SKAB using LSTM-Autoencoder"
   ]
  },
  {
   "cell_type": "code",
   "execution_count": 1,
   "id": "c0ec7580",
   "metadata": {},
   "outputs": [],
   "source": [
    "# libraries importing\n",
    "import pandas as pd\n",
    "import matplotlib.pyplot as plt\n",
    "%matplotlib inline\n",
    "\n",
    "from io import StringIO\n",
    "import requests\n",
    "from tsad.evaluating.evaluating import evaluating"
   ]
  },
  {
   "cell_type": "markdown",
   "id": "3c9512a8",
   "metadata": {},
   "source": [
    "# Data loading"
   ]
  },
  {
   "cell_type": "code",
   "execution_count": 2,
   "id": "7ec5c219",
   "metadata": {},
   "outputs": [],
   "source": [
    "def dataframe_expirement(i):\n",
    "    if i == 1:\n",
    "        url = \"https://storage.yandexcloud.net/cloud-files-public/dataframe.csv\" \n",
    "        dataframe = pd.read_csv(StringIO(requests.get(url).content.decode('utf-8')), sep='|')\n",
    "        dataframe_columns = dataframe.columns \n",
    "        first_label_list = dataframe[dataframe_columns[0]].unique() \n",
    "        dataframe_aa564g = dataframe[dataframe[dataframe_columns[0]] == first_label_list[0]]\n",
    "        dataframe_aa564g_first = dataframe_aa564g.drop(axis=1, labels=(dataframe_aa564g.columns[0])) \\\n",
    "            .drop(axis=1, labels=(dataframe_aa564g.columns[1]))[['m', 'v/v', 'v/v.1',\n",
    "                                                                 'uR/h', 'ohmm', 'ohmm.1', 'ohmm.2', 'ohmm.3', 'ohmm.5',\n",
    "                                                                 'ohmm.6',\n",
    "                                                                 'unitless', 'unitless.1']].reset_index(drop=True)\n",
    "        dataframe_edited_ = dataframe_aa564g_first.loc[dataframe_aa564g_first['unitless.1'] >= 0] \\\n",
    "            .loc[dataframe_aa564g_first['unitless'] >= 0].loc[dataframe_aa564g_first['ohmm'] >= 0] \\\n",
    "            .loc[dataframe_aa564g_first['ohmm.1'] >= 0].loc[dataframe_aa564g_first['ohmm.2'] >= 0] \\\n",
    "            .loc[dataframe_aa564g_first['ohmm.3'] >= 0].loc[dataframe_aa564g_first['ohmm.5'] >= 0] \\\n",
    "            .loc[dataframe_aa564g_first['ohmm.6'] >= 0].loc[dataframe_aa564g_first['uR/h'] >= 0] \\\n",
    "            .loc[dataframe_aa564g_first['v/v.1'] >= 0].loc[dataframe_aa564g_first['v/v'] >= 0] \\\n",
    "            .reset_index(drop=True)\n",
    "    else:\n",
    "        url = \"https://storage.yandexcloud.net/cloud-files-public/noname_ECG_2022.csv\" \n",
    "        dataframe_edited_ = pd.read_csv(StringIO(requests.get(url).content.decode('utf-8')), sep=',')\n",
    "    return dataframe_edited_"
   ]
  },
  {
   "cell_type": "code",
   "execution_count": 3,
   "id": "3859f2d8",
   "metadata": {},
   "outputs": [],
   "source": [
    "ts_data_1, ts_data_2 = dataframe_expirement(1), dataframe_expirement(0).iloc[2500:].reset_index().drop(labels='index',axis=1)"
   ]
  },
  {
   "cell_type": "markdown",
   "id": "ee41ecc2",
   "metadata": {},
   "source": [
    "# Data description and visualization"
   ]
  },
  {
   "cell_type": "code",
   "execution_count": 4,
   "id": "fbb203b1",
   "metadata": {},
   "outputs": [],
   "source": [
    "from scipy.signal import find_peaks"
   ]
  },
  {
   "cell_type": "code",
   "execution_count": 5,
   "id": "46552d12",
   "metadata": {},
   "outputs": [],
   "source": [
    "def plot_data_scores_and_selected_window(ts, score_list, window_size_selected):\n",
    "    f, ax = plt.subplots(2, 1, figsize=(30, 20))\n",
    "    ax[0].plot(ts)\n",
    "    ax[0].vlines(x=window_size_selected, ymin=min(ts), ymax=max(ts),\n",
    "        linestyle = ':',\n",
    "        linewidth = 6,\n",
    "        color = 'darkblue')\n",
    "    ax[0].set_title(\"ts\")\n",
    "    ax[1].plot(score_list, \"r\")\n",
    "    ax[1].set_title(\"score\")\n",
    "    f.show()"
   ]
  },
  {
   "cell_type": "code",
   "execution_count": 6,
   "id": "b0ae7a60",
   "metadata": {},
   "outputs": [
    {
     "name": "stdout",
     "output_type": "stream",
     "text": [
      "A number of datasets: 2\n",
      "\n",
      "Shape of the well dataset: (8754, 12)\n",
      "\n",
      "Shape of the medical dataset: (17500, 2)\n",
      "\n",
      "A number of datasets: 2\n",
      "\n",
      "Shape of the well dataset: (8754, 13)\n",
      "\n",
      "Shape of the medical dataset: (17500, 3)\n",
      "\n",
      "A number of changepoints in the well dataset: 52\n",
      "\n",
      "A number of changepoints in the medical dataset: 37\n",
      "\n",
      "Head of the well dataset:\n"
     ]
    },
    {
     "data": {
      "text/html": [
       "<div>\n",
       "<style scoped>\n",
       "    .dataframe tbody tr th:only-of-type {\n",
       "        vertical-align: middle;\n",
       "    }\n",
       "\n",
       "    .dataframe tbody tr th {\n",
       "        vertical-align: top;\n",
       "    }\n",
       "\n",
       "    .dataframe thead th {\n",
       "        text-align: right;\n",
       "    }\n",
       "</style>\n",
       "<table border=\"1\" class=\"dataframe\">\n",
       "  <thead>\n",
       "    <tr style=\"text-align: right;\">\n",
       "      <th></th>\n",
       "      <th>m</th>\n",
       "      <th>v/v</th>\n",
       "      <th>v/v.1</th>\n",
       "      <th>uR/h</th>\n",
       "      <th>ohmm</th>\n",
       "      <th>ohmm.1</th>\n",
       "      <th>ohmm.2</th>\n",
       "      <th>ohmm.3</th>\n",
       "      <th>ohmm.5</th>\n",
       "      <th>ohmm.6</th>\n",
       "      <th>unitless</th>\n",
       "      <th>unitless.1</th>\n",
       "      <th>change_points</th>\n",
       "    </tr>\n",
       "  </thead>\n",
       "  <tbody>\n",
       "    <tr>\n",
       "      <th>0</th>\n",
       "      <td>3185.5</td>\n",
       "      <td>0.960549</td>\n",
       "      <td>0.901756</td>\n",
       "      <td>56.50</td>\n",
       "      <td>38.11802</td>\n",
       "      <td>46.61687</td>\n",
       "      <td>26.52874</td>\n",
       "      <td>36.00038</td>\n",
       "      <td>0.126035</td>\n",
       "      <td>0.126063</td>\n",
       "      <td>5</td>\n",
       "      <td>1</td>\n",
       "      <td>0</td>\n",
       "    </tr>\n",
       "    <tr>\n",
       "      <th>1</th>\n",
       "      <td>3185.6</td>\n",
       "      <td>0.960549</td>\n",
       "      <td>0.924199</td>\n",
       "      <td>55.10</td>\n",
       "      <td>38.51000</td>\n",
       "      <td>41.08000</td>\n",
       "      <td>28.23000</td>\n",
       "      <td>30.61000</td>\n",
       "      <td>0.126035</td>\n",
       "      <td>0.126062</td>\n",
       "      <td>5</td>\n",
       "      <td>1</td>\n",
       "      <td>0</td>\n",
       "    </tr>\n",
       "    <tr>\n",
       "      <th>2</th>\n",
       "      <td>3185.7</td>\n",
       "      <td>0.960549</td>\n",
       "      <td>0.920993</td>\n",
       "      <td>55.30</td>\n",
       "      <td>38.49500</td>\n",
       "      <td>40.22613</td>\n",
       "      <td>27.25827</td>\n",
       "      <td>29.11342</td>\n",
       "      <td>0.126035</td>\n",
       "      <td>0.126062</td>\n",
       "      <td>5</td>\n",
       "      <td>1</td>\n",
       "      <td>0</td>\n",
       "    </tr>\n",
       "    <tr>\n",
       "      <th>3</th>\n",
       "      <td>3185.8</td>\n",
       "      <td>0.960549</td>\n",
       "      <td>0.917787</td>\n",
       "      <td>55.50</td>\n",
       "      <td>38.48000</td>\n",
       "      <td>39.39000</td>\n",
       "      <td>26.32000</td>\n",
       "      <td>27.69000</td>\n",
       "      <td>0.126035</td>\n",
       "      <td>0.126062</td>\n",
       "      <td>5</td>\n",
       "      <td>1</td>\n",
       "      <td>0</td>\n",
       "    </tr>\n",
       "    <tr>\n",
       "      <th>4</th>\n",
       "      <td>3185.9</td>\n",
       "      <td>0.960549</td>\n",
       "      <td>0.922435</td>\n",
       "      <td>55.21</td>\n",
       "      <td>37.06394</td>\n",
       "      <td>38.07816</td>\n",
       "      <td>28.97599</td>\n",
       "      <td>30.48858</td>\n",
       "      <td>0.126035</td>\n",
       "      <td>0.126061</td>\n",
       "      <td>5</td>\n",
       "      <td>1</td>\n",
       "      <td>0</td>\n",
       "    </tr>\n",
       "  </tbody>\n",
       "</table>\n",
       "</div>"
      ],
      "text/plain": [
       "        m       v/v     v/v.1   uR/h      ohmm    ohmm.1    ohmm.2    ohmm.3  \\\n",
       "0  3185.5  0.960549  0.901756  56.50  38.11802  46.61687  26.52874  36.00038   \n",
       "1  3185.6  0.960549  0.924199  55.10  38.51000  41.08000  28.23000  30.61000   \n",
       "2  3185.7  0.960549  0.920993  55.30  38.49500  40.22613  27.25827  29.11342   \n",
       "3  3185.8  0.960549  0.917787  55.50  38.48000  39.39000  26.32000  27.69000   \n",
       "4  3185.9  0.960549  0.922435  55.21  37.06394  38.07816  28.97599  30.48858   \n",
       "\n",
       "     ohmm.5    ohmm.6  unitless  unitless.1  change_points  \n",
       "0  0.126035  0.126063         5           1              0  \n",
       "1  0.126035  0.126062         5           1              0  \n",
       "2  0.126035  0.126062         5           1              0  \n",
       "3  0.126035  0.126062         5           1              0  \n",
       "4  0.126035  0.126061         5           1              0  "
      ]
     },
     "metadata": {},
     "output_type": "display_data"
    },
    {
     "name": "stdout",
     "output_type": "stream",
     "text": [
      "Head of the well dataset:\n"
     ]
    },
    {
     "data": {
      "text/html": [
       "<div>\n",
       "<style scoped>\n",
       "    .dataframe tbody tr th:only-of-type {\n",
       "        vertical-align: middle;\n",
       "    }\n",
       "\n",
       "    .dataframe tbody tr th {\n",
       "        vertical-align: top;\n",
       "    }\n",
       "\n",
       "    .dataframe thead th {\n",
       "        text-align: right;\n",
       "    }\n",
       "</style>\n",
       "<table border=\"1\" class=\"dataframe\">\n",
       "  <thead>\n",
       "    <tr style=\"text-align: right;\">\n",
       "      <th></th>\n",
       "      <th>Time</th>\n",
       "      <th>EcgWaveform</th>\n",
       "      <th>change_points</th>\n",
       "    </tr>\n",
       "  </thead>\n",
       "  <tbody>\n",
       "    <tr>\n",
       "      <th>0</th>\n",
       "      <td>04/08/2022 08:38:37.946</td>\n",
       "      <td>2450</td>\n",
       "      <td>0</td>\n",
       "    </tr>\n",
       "    <tr>\n",
       "      <th>1</th>\n",
       "      <td>04/08/2022 08:38:37.947</td>\n",
       "      <td>2447</td>\n",
       "      <td>0</td>\n",
       "    </tr>\n",
       "    <tr>\n",
       "      <th>2</th>\n",
       "      <td>04/08/2022 08:38:37.948</td>\n",
       "      <td>2445</td>\n",
       "      <td>0</td>\n",
       "    </tr>\n",
       "    <tr>\n",
       "      <th>3</th>\n",
       "      <td>04/08/2022 08:38:37.949</td>\n",
       "      <td>2442</td>\n",
       "      <td>0</td>\n",
       "    </tr>\n",
       "    <tr>\n",
       "      <th>4</th>\n",
       "      <td>04/08/2022 08:38:37.950</td>\n",
       "      <td>2440</td>\n",
       "      <td>0</td>\n",
       "    </tr>\n",
       "  </tbody>\n",
       "</table>\n",
       "</div>"
      ],
      "text/plain": [
       "                      Time  EcgWaveform  change_points\n",
       "0  04/08/2022 08:38:37.946         2450              0\n",
       "1  04/08/2022 08:38:37.947         2447              0\n",
       "2  04/08/2022 08:38:37.948         2445              0\n",
       "3  04/08/2022 08:38:37.949         2442              0\n",
       "4  04/08/2022 08:38:37.950         2440              0"
      ]
     },
     "metadata": {},
     "output_type": "display_data"
    }
   ],
   "source": [
    "# dataset characteristics printing\n",
    "print(f'A number of datasets: {2}\\n')\n",
    "print(f'Shape of the well dataset: {ts_data_1.shape}\\n')\n",
    "print(f'Shape of the medical dataset: {ts_data_2.shape}\\n')\n",
    "cp_1 = []\n",
    "temp_value_second = 0\n",
    "for i in range(len(ts_data_1)):\n",
    "    temp_value = ts_data_1['unitless'][i]\n",
    "    if temp_value != temp_value_second:\n",
    "        cp_1.append(1)\n",
    "    else:\n",
    "        cp_1.append(0)\n",
    "    temp_value_second = temp_value\n",
    "cp_1[0] = 0\n",
    "cp_2 = []\n",
    "peaks, _ = find_peaks(ts_data_2['EcgWaveform'], distance=250)\n",
    "for i in range(len(ts_data_2)):\n",
    "    if i not in peaks:\n",
    "        cp_2.append(0)\n",
    "    else:\n",
    "        cp_2.append(1)\n",
    "ts_data_1['change_points'] = cp_1\n",
    "ts_data_2['change_points'] = cp_2\n",
    "print(f'A number of datasets: {2}\\n')\n",
    "print(f'Shape of the well dataset: {ts_data_1.shape}\\n')\n",
    "print(f'Shape of the medical dataset: {ts_data_2.shape}\\n')\n",
    "n_cp_1 = cp_1.count(1)\n",
    "n_cp_2 = cp_2.count(1)\n",
    "print(f'A number of changepoints in the well dataset: {n_cp_1}\\n')\n",
    "print(f'A number of changepoints in the medical dataset: {n_cp_2}\\n')\n",
    "print(f'Head of the well dataset:')\n",
    "display(ts_data_1.head())\n",
    "print(f'Head of the well dataset:')\n",
    "display(ts_data_2.head())"
   ]
  },
  {
   "cell_type": "code",
   "execution_count": 7,
   "id": "83f24171",
   "metadata": {},
   "outputs": [
    {
     "data": {
      "image/png": "[encoded data removed]",
      "text/plain": [
       "<Figure size 864x432 with 1 Axes>"
      ]
     },
     "metadata": {
      "needs_background": "light"
     },
     "output_type": "display_data"
    }
   ],
   "source": [
    "# well dataset visualizing\n",
    "ts_data_1.plot(figsize=(12,6))\n",
    "plt.xlabel('Time')\n",
    "plt.ylabel('Value')\n",
    "plt.title('Signals')\n",
    "plt.show()"
   ]
  },
  {
   "cell_type": "code",
   "execution_count": 8,
   "id": "696f8612",
   "metadata": {},
   "outputs": [
    {
     "data": {
      "image/png": "[encoded data removed]",
      "text/plain": [
       "<Figure size 864x432 with 1 Axes>"
      ]
     },
     "metadata": {
      "needs_background": "light"
     },
     "output_type": "display_data"
    }
   ],
   "source": [
    "# medical dataset visualizing\n",
    "ts_data_2.plot(figsize=(12,6))\n",
    "plt.xlabel('Time')\n",
    "plt.ylabel('Value')\n",
    "plt.title('Signals')\n",
    "plt.show()"
   ]
  },
  {
   "cell_type": "code",
   "execution_count": 9,
   "id": "6bc86a15",
   "metadata": {},
   "outputs": [],
   "source": [
    "list_of_df = [ts_data_1[['change_points','uR/h','ohmm']], ts_data_2.drop('Time', axis=1)]"
   ]
  },
  {
   "cell_type": "markdown",
   "id": "1043cb12",
   "metadata": {},
   "source": [
    "# Method applying"
   ]
  },
  {
   "cell_type": "code",
   "execution_count": 33,
   "id": "5ed6a491",
   "metadata": {},
   "outputs": [],
   "source": [
    "# libraries importing\n",
    "import numpy as np\n",
    "from tensorflow import keras\n",
    "from tensorflow.keras import layers\n",
    "from tensorflow.keras.callbacks import EarlyStopping, ModelCheckpoint, ReduceLROnPlateau\n",
    "from sklearn.metrics import mean_absolute_error, mean_squared_error\n",
    "from sklearn.preprocessing import StandardScaler"
   ]
  },
  {
   "cell_type": "code",
   "execution_count": 34,
   "id": "e5d24490",
   "metadata": {},
   "outputs": [],
   "source": [
    "# Function for repeatability\n",
    "def Random(seed_value):\n",
    "    # 1. Set `PYTHONHASHSEED` environment variable at a fixed value\n",
    "    import os\n",
    "    os.environ['PYTHONHASHSEED']=str(seed_value)\n",
    "\n",
    "    # 2. Set `python` built-in pseudo-random generator at a fixed value\n",
    "    import random\n",
    "    random.seed(seed_value)\n",
    "\n",
    "    # 3. Set `numpy` pseudo-random generator at a fixed value\n",
    "    import numpy as np\n",
    "    np.random.seed(seed_value)\n",
    "\n",
    "    # 4. Set `tensorflow` pseudo-random generator at a fixed value\n",
    "    import tensorflow as tf\n",
    "    tf.random.set_seed(seed_value)"
   ]
  },
  {
   "cell_type": "code",
   "execution_count": 35,
   "id": "0bb89ca6",
   "metadata": {},
   "outputs": [],
   "source": [
    "def arch(data):\n",
    "    EPOCHS = 100\n",
    "    BATCH_SIZE = 32\n",
    "    VAL_SPLIT = 0.1\n",
    "    \n",
    "    Random(0)    \n",
    "    # model defining\n",
    "    # define encoder\n",
    "    inputs = keras.Input(shape=(data.shape[1], data.shape[2]))\n",
    "    encoded = layers.LSTM(100, activation='relu')(inputs)\n",
    "\n",
    "    # define reconstruct decoder\n",
    "    decoded = layers.RepeatVector(data.shape[1])(encoded)\n",
    "    decoded = layers.LSTM(100, activation='relu', return_sequences=True)(decoded)\n",
    "    decoded = layers.TimeDistributed(layers.Dense(data.shape[2]))(decoded)\n",
    "\n",
    "    # tie it together\n",
    "    model = keras.Model(inputs, decoded)\n",
    "    encoder = keras.Model(inputs, encoded)\n",
    "\n",
    "    model.compile(optimizer='adam', loss='mae', metrics=[\"mse\"])\n",
    "    \n",
    "    # callbacks defining\n",
    "    early_stopping = EarlyStopping(patience=5, verbose=0)\n",
    "#     reduce_lr = ReduceLROnPlateau(factor=0.1, patience=5, min_lr=0.0001, verbose=0)\n",
    "    \n",
    "    # model fitting\n",
    "    history = model.fit(data, data,\n",
    "                        validation_split=VAL_SPLIT,\n",
    "                        epochs=EPOCHS,\n",
    "                        batch_size=BATCH_SIZE,\n",
    "                        verbose=0,\n",
    "                        shuffle=False,\n",
    "                        callbacks=[early_stopping]#, reduce_lr]\n",
    "                        )\n",
    "    return history, model"
   ]
  },
  {
   "cell_type": "markdown",
   "id": "39a77fa3",
   "metadata": {},
   "source": [
    "# Training in the beginning of each dataset"
   ]
  },
  {
   "cell_type": "code",
   "execution_count": 13,
   "id": "178536e3",
   "metadata": {},
   "outputs": [],
   "source": [
    "N_STEPS = 60\n",
    "Q = 0.999 # quantile for upper control limit (UCL) selection"
   ]
  },
  {
   "cell_type": "code",
   "execution_count": 36,
   "id": "23dd355c",
   "metadata": {},
   "outputs": [],
   "source": [
    "# Generated training sequences for use in the model.\n",
    "def create_sequences(values, time_steps=N_STEPS):\n",
    "    output = []\n",
    "    for i in range(len(values) - time_steps + 1):\n",
    "        output.append(values[i : (i + time_steps)])\n",
    "    return np.stack(output)"
   ]
  },
  {
   "cell_type": "code",
   "execution_count": 38,
   "id": "739ed05d",
   "metadata": {},
   "outputs": [
    {
     "name": "stdout",
     "output_type": "stream",
     "text": [
      "Wall time: 36.9 s\n"
     ]
    }
   ],
   "source": [
    "%%time\n",
    "\n",
    "# inference\n",
    "predicted_outlier, predicted_cp = [], []\n",
    "for df in list_of_df:\n",
    "    X_train = df[:400].drop(['change_points'], axis=1)\n",
    "    \n",
    "    # scaler init and fitting\n",
    "    StSc = StandardScaler()\n",
    "    StSc.fit(X_train)\n",
    "    \n",
    "    # convert into input/output\n",
    "    X = create_sequences(StSc.transform(X_train), N_STEPS)\n",
    "    \n",
    "    # model defining and fitting\n",
    "    history, model = arch(X)\n",
    "    \n",
    "    # results predicting\n",
    "    residuals = pd.Series(np.sum(np.mean(np.abs(X - model.predict(X)), axis=1), axis=1))\n",
    "    UCL = residuals.quantile(Q)\n",
    "    \n",
    "    # results predicting\n",
    "    X = create_sequences(StSc.transform(df.drop(['change_points'], axis=1)), N_STEPS)\n",
    "    cnn_residuals = pd.Series(np.sum(np.mean(np.abs(X - model.predict(X)), axis=1), axis=1))\n",
    "    \n",
    "    # data i is an anomaly if samples [(i - timesteps + 1) to (i)] are anomalies\n",
    "    anomalous_data = cnn_residuals > (3/2 * UCL)\n",
    "    anomalous_data_indices = []\n",
    "    for data_idx in range(N_STEPS - 1, len(X) - N_STEPS + 1):\n",
    "        if np.all(anomalous_data[data_idx - N_STEPS + 1 : data_idx]):\n",
    "            anomalous_data_indices.append(data_idx)\n",
    "    \n",
    "    prediction = pd.Series(data=0, index=df.index)\n",
    "    prediction.iloc[anomalous_data_indices] = 1\n",
    "    \n",
    "    # predicted outliers saving\n",
    "    predicted_outlier.append(prediction)\n",
    "    \n",
    "    # predicted CPs saving\n",
    "    prediction_cp = abs(prediction.diff())\n",
    "    prediction_cp[0] = prediction[0]\n",
    "    predicted_cp.append(prediction_cp)"
   ]
  },
  {
   "cell_type": "markdown",
   "id": "69413d4c",
   "metadata": {},
   "source": [
    "# Results"
   ]
  },
  {
   "cell_type": "code",
   "execution_count": 39,
   "id": "d1c4a1ee",
   "metadata": {},
   "outputs": [
    {
     "data": {
      "image/png": "[encoded data removed]",
      "text/plain": [
       "<Figure size 864x216 with 1 Axes>"
      ]
     },
     "metadata": {
      "needs_background": "light"
     },
     "output_type": "display_data"
    }
   ],
   "source": [
    "# true changepoint indices selection\n",
    "true_cp = [df.change_points for df in list_of_df]\n",
    "\n",
    "predicted_cp[0].plot(figsize=(12, 3), label='predictions', marker='o', markersize=5)\n",
    "true_cp[0].plot(marker='o', markersize=2)\n",
    "plt.legend();"
   ]
  },
  {
   "cell_type": "code",
   "execution_count": 40,
   "id": "f9a88d77",
   "metadata": {},
   "outputs": [
    {
     "data": {
      "image/png": "[encoded data removed]",
      "text/plain": [
       "<Figure size 864x216 with 1 Axes>"
      ]
     },
     "metadata": {
      "needs_background": "light"
     },
     "output_type": "display_data"
    }
   ],
   "source": [
    "true_cp = [df.change_points for df in list_of_df]\n",
    "\n",
    "predicted_cp[1].plot(figsize=(12, 3), label='predictions', marker='o', markersize=5)\n",
    "true_cp[1].plot(marker='o', markersize=2)\n",
    "plt.legend();"
   ]
  },
  {
   "cell_type": "markdown",
   "id": "2a0fcbe5",
   "metadata": {},
   "source": [
    "# Metrics calculation"
   ]
  },
  {
   "cell_type": "code",
   "execution_count": 41,
   "id": "fc5ecf98",
   "metadata": {},
   "outputs": [],
   "source": [
    "from datetime import datetime, timedelta"
   ]
  },
  {
   "cell_type": "code",
   "execution_count": 42,
   "id": "0afbdfcc",
   "metadata": {},
   "outputs": [],
   "source": [
    "t_0 = np.arange(len(true_cp[0])).astype('datetime64[s]')\n",
    "t_1 = np.arange(len(true_cp[1])).astype('datetime64[s]')"
   ]
  },
  {
   "cell_type": "code",
   "execution_count": 43,
   "id": "5c021fda",
   "metadata": {},
   "outputs": [],
   "source": [
    "df_0 = pd.DataFrame(index=t_0, columns=['predicted_cp'])\n",
    "df_0['predicted_cp'] = np.array(predicted_cp[0])\n",
    "df_0['true_cp'] = np.array(true_cp[0])"
   ]
  },
  {
   "cell_type": "code",
   "execution_count": 44,
   "id": "4a925149",
   "metadata": {},
   "outputs": [],
   "source": [
    "df_1 = pd.DataFrame(index=t_1, columns=['predicted_cp'])\n",
    "df_1['predicted_cp'] = np.array(predicted_cp[1])\n",
    "df_1['true_cp'] = np.array(true_cp[1])"
   ]
  },
  {
   "cell_type": "code",
   "execution_count": 45,
   "id": "43b03c30",
   "metadata": {},
   "outputs": [
    {
     "name": "stdout",
     "output_type": "stream",
     "text": [
      "Intersection of scoring windows(Timestamp('1970-01-01 00:18:00'), Timestamp('1970-01-01 00:17:54'))\n",
      "Intersection of scoring windows(Timestamp('1970-01-01 00:18:24'), Timestamp('1970-01-01 00:18:16'))\n",
      "Intersection of scoring windows(Timestamp('1970-01-01 00:18:46'), Timestamp('1970-01-01 00:18:31'))\n",
      "Intersection of scoring windows(Timestamp('1970-01-01 00:19:01'), Timestamp('1970-01-01 00:18:45'))\n",
      "Intersection of scoring windows(Timestamp('1970-01-01 00:19:15'), Timestamp('1970-01-01 00:19:01'))\n",
      "Intersection of scoring windows(Timestamp('1970-01-01 00:19:31'), Timestamp('1970-01-01 00:19:13'))\n",
      "Intersection of scoring windows(Timestamp('1970-01-01 00:23:33'), Timestamp('1970-01-01 00:23:25'))\n",
      "Intersection of scoring windows(Timestamp('1970-01-01 00:30:52'), Timestamp('1970-01-01 00:30:47'))\n",
      "Intersection of scoring windows(Timestamp('1970-01-01 00:36:01'), Timestamp('1970-01-01 00:36:01'))\n",
      "Intersection of scoring windows(Timestamp('1970-01-01 00:53:29'), Timestamp('1970-01-01 00:53:17'))\n",
      "Intersection of scoring windows(Timestamp('1970-01-01 00:59:17'), Timestamp('1970-01-01 00:59:05'))\n",
      "Intersection of scoring windows(Timestamp('1970-01-01 01:29:45'), Timestamp('1970-01-01 01:29:32'))\n",
      "Intersection of scoring windows(Timestamp('1970-01-01 02:14:41'), Timestamp('1970-01-01 02:14:40'))\n",
      "Standart  -  5.59\n",
      "LowFP  -  4.81\n",
      "LowFN  -  6.29\n"
     ]
    }
   ],
   "source": [
    "# nab metric calculation\n",
    "nab = evaluating(df_0['true_cp'], df_0['predicted_cp'], metric='nab', numenta_time='30 sec')"
   ]
  },
  {
   "cell_type": "code",
   "execution_count": 46,
   "id": "ad605747",
   "metadata": {},
   "outputs": [
    {
     "name": "stdout",
     "output_type": "stream",
     "text": [
      "Intersection of scoring windows(Timestamp('1970-01-01 00:18:00'), Timestamp('1970-01-01 00:17:54'))\n",
      "Intersection of scoring windows(Timestamp('1970-01-01 00:18:24'), Timestamp('1970-01-01 00:18:16'))\n",
      "Intersection of scoring windows(Timestamp('1970-01-01 00:18:46'), Timestamp('1970-01-01 00:18:31'))\n",
      "Intersection of scoring windows(Timestamp('1970-01-01 00:19:01'), Timestamp('1970-01-01 00:18:45'))\n",
      "Intersection of scoring windows(Timestamp('1970-01-01 00:19:15'), Timestamp('1970-01-01 00:19:01'))\n",
      "Intersection of scoring windows(Timestamp('1970-01-01 00:19:31'), Timestamp('1970-01-01 00:19:13'))\n",
      "Intersection of scoring windows(Timestamp('1970-01-01 00:23:33'), Timestamp('1970-01-01 00:23:25'))\n",
      "Intersection of scoring windows(Timestamp('1970-01-01 00:30:52'), Timestamp('1970-01-01 00:30:47'))\n",
      "Intersection of scoring windows(Timestamp('1970-01-01 00:36:01'), Timestamp('1970-01-01 00:36:01'))\n",
      "Intersection of scoring windows(Timestamp('1970-01-01 00:53:29'), Timestamp('1970-01-01 00:53:17'))\n",
      "Intersection of scoring windows(Timestamp('1970-01-01 00:59:17'), Timestamp('1970-01-01 00:59:05'))\n",
      "Intersection of scoring windows(Timestamp('1970-01-01 01:29:45'), Timestamp('1970-01-01 01:29:32'))\n",
      "Intersection of scoring windows(Timestamp('1970-01-01 02:14:41'), Timestamp('1970-01-01 02:14:40'))\n",
      "Amount of true anomalies 52\n",
      "A number of missed CPs = 48\n",
      "A number of FPs = 6\n",
      "Average time 0 days 00:00:19.500000\n"
     ]
    }
   ],
   "source": [
    "# average detection delay metric calculation\n",
    "add = evaluating(df_0['true_cp'], df_0['predicted_cp'], metric='average_time', numenta_time='30 sec')"
   ]
  },
  {
   "cell_type": "code",
   "execution_count": 47,
   "id": "faa02f7e",
   "metadata": {},
   "outputs": [
    {
     "name": "stdout",
     "output_type": "stream",
     "text": [
      "Standart  -  -1.62\n",
      "LowFP  -  -4.59\n",
      "LowFN  -  -0.18\n"
     ]
    }
   ],
   "source": [
    "# nab metric calculation\n",
    "nab = evaluating(df_1['true_cp'], df_1['predicted_cp'], metric='nab', numenta_time='30 sec')"
   ]
  },
  {
   "cell_type": "code",
   "execution_count": 48,
   "id": "89331159",
   "metadata": {},
   "outputs": [
    {
     "name": "stdout",
     "output_type": "stream",
     "text": [
      "Amount of true anomalies 37\n",
      "A number of missed CPs = 36\n",
      "A number of FPs = 19\n",
      "Average time 0 days 00:00:00\n"
     ]
    }
   ],
   "source": [
    "# average detection delay metric calculation\n",
    "add = evaluating(df_1['true_cp'], df_1['predicted_cp'], metric='average_time', numenta_time='30 sec')"
   ]
  }
 ],
 "metadata": {
  "kernelspec": {
   "display_name": "Python 3 (ipykernel)",
   "language": "python",
   "name": "python3"
  },
  "language_info": {
   "codemirror_mode": {
    "name": "ipython",
    "version": 3
   },
   "file_extension": ".py",
   "mimetype": "text/x-python",
   "name": "python",
   "nbconvert_exporter": "python",
   "pygments_lexer": "ipython3",
   "version": "3.9.7"
  }
 },
 "nbformat": 4,
 "nbformat_minor": 5
}
