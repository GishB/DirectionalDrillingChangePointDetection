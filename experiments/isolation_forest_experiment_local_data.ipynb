{
 "cells": [
  {
   "cell_type": "code",
   "execution_count": 2,
   "metadata": {
    "colab": {
     "base_uri": "https://localhost:8080/"
    },
    "id": "9lqNWrj2A-3k",
    "outputId": "9308aa0b-1e89-490a-bfa4-088adad27371"
   },
   "outputs": [],
   "source": [
    "# pip install tsad"
   ]
  },
  {
   "cell_type": "code",
   "execution_count": 1,
   "metadata": {
    "colab": {
     "base_uri": "https://localhost:8080/"
    },
    "id": "Gh9WKK7PLUmp",
    "outputId": "a1fcc4de-8323-4f23-f040-126b0f8025fa"
   },
   "outputs": [],
   "source": [
    "# pip install shap"
   ]
  },
  {
   "cell_type": "markdown",
   "metadata": {
    "id": "v9-1go_vpZZD"
   },
   "source": [
    "# Pipeline for the anomaly detection on the SKAB using Isolation forest\n",
    "\n"
   ]
  },
  {
   "cell_type": "code",
   "execution_count": 4,
   "metadata": {
    "id": "BM7No3nzpc79"
   },
   "outputs": [],
   "source": [
    "# libraries importing\n",
    "import pandas as pd\n",
    "import matplotlib.pyplot as plt\n",
    "%matplotlib inline\n",
    "\n",
    "# additional modules\n",
    "import sys\n",
    "sys.path.append('../utils')\n",
    "from io import StringIO\n",
    "import requests\n",
    "from tsad.evaluating.evaluating import evaluating\n",
    "import numpy as np\n",
    "from sklearn.ensemble import IsolationForest\n",
    "import shap"
   ]
  },
  {
   "cell_type": "markdown",
   "metadata": {
    "id": "aNeb6asYpsN1"
   },
   "source": [
    "# Data loading"
   ]
  },
  {
   "cell_type": "code",
   "execution_count": 5,
   "metadata": {
    "id": "3xVAh43upkmV"
   },
   "outputs": [],
   "source": [
    "def dataframe_expirement(i):\n",
    "    if i == 1:\n",
    "        url = \"https://storage.yandexcloud.net/cloud-files-public/dataframe.csv\" \n",
    "        dataframe = pd.read_csv(StringIO(requests.get(url).content.decode('utf-8')), sep='|')\n",
    "        dataframe_columns = dataframe.columns \n",
    "        first_label_list = dataframe[dataframe_columns[0]].unique() \n",
    "        dataframe_aa564g = dataframe[dataframe[dataframe_columns[0]] == first_label_list[0]]\n",
    "        dataframe_aa564g_first = dataframe_aa564g.drop(axis=1, labels=(dataframe_aa564g.columns[0])) \\\n",
    "            .drop(axis=1, labels=(dataframe_aa564g.columns[1]))[['m', 'v/v', 'v/v.1',\n",
    "                                                                 'uR/h', 'ohmm', 'ohmm.1', 'ohmm.2', 'ohmm.3', 'ohmm.5',\n",
    "                                                                 'ohmm.6',\n",
    "                                                                 'unitless', 'unitless.1']].reset_index(drop=True)\n",
    "        dataframe_edited_ = dataframe_aa564g_first.loc[dataframe_aa564g_first['unitless.1'] >= 0] \\\n",
    "            .loc[dataframe_aa564g_first['unitless'] >= 0].loc[dataframe_aa564g_first['ohmm'] >= 0] \\\n",
    "            .loc[dataframe_aa564g_first['ohmm.1'] >= 0].loc[dataframe_aa564g_first['ohmm.2'] >= 0] \\\n",
    "            .loc[dataframe_aa564g_first['ohmm.3'] >= 0].loc[dataframe_aa564g_first['ohmm.5'] >= 0] \\\n",
    "            .loc[dataframe_aa564g_first['ohmm.6'] >= 0].loc[dataframe_aa564g_first['uR/h'] >= 0] \\\n",
    "            .loc[dataframe_aa564g_first['v/v.1'] >= 0].loc[dataframe_aa564g_first['v/v'] >= 0] \\\n",
    "            .reset_index(drop=True)\n",
    "    else:\n",
    "        url = \"https://storage.yandexcloud.net/cloud-files-public/noname_ECG_2022.csv\" \n",
    "        dataframe_edited_ = pd.read_csv(StringIO(requests.get(url).content.decode('utf-8')), sep=',')\n",
    "    return dataframe_edited_"
   ]
  },
  {
   "cell_type": "code",
   "execution_count": 6,
   "metadata": {
    "id": "DIbbOUDopv5S"
   },
   "outputs": [],
   "source": [
    "ts_data_1, ts_data_2 = dataframe_expirement(1), dataframe_expirement(0).iloc[2500:].reset_index().drop(labels='index',axis=1)"
   ]
  },
  {
   "cell_type": "markdown",
   "metadata": {
    "id": "62q2i9LapzBI"
   },
   "source": [
    "# Data description and visualization"
   ]
  },
  {
   "cell_type": "code",
   "execution_count": 7,
   "metadata": {
    "id": "OOMTKk9apxYK"
   },
   "outputs": [],
   "source": [
    "from scipy.signal import find_peaks"
   ]
  },
  {
   "cell_type": "code",
   "execution_count": 8,
   "metadata": {
    "id": "opLNAEf7p4wi"
   },
   "outputs": [],
   "source": [
    "def plot_data_scores_and_selected_window(ts, score_list, window_size_selected):\n",
    "    f, ax = plt.subplots(2, 1, figsize=(30, 20))\n",
    "    ax[0].plot(ts)\n",
    "    ax[0].vlines(x=window_size_selected, ymin=min(ts), ymax=max(ts),\n",
    "        linestyle = ':',\n",
    "        linewidth = 6,\n",
    "        color = 'darkblue')\n",
    "    ax[0].set_title(\"ts\")\n",
    "    ax[1].plot(score_list, \"r\")\n",
    "    ax[1].set_title(\"score\")\n",
    "    f.show()"
   ]
  },
  {
   "cell_type": "code",
   "execution_count": 9,
   "metadata": {
    "colab": {
     "base_uri": "https://localhost:8080/",
     "height": 727
    },
    "id": "Pho8JwnVp515",
    "outputId": "21da558c-21a0-4e1b-b72c-f255c913468b"
   },
   "outputs": [
    {
     "name": "stdout",
     "output_type": "stream",
     "text": [
      "A number of datasets: 2\n",
      "\n",
      "Shape of the well dataset: (8754, 12)\n",
      "\n",
      "Shape of the medical dataset: (17500, 2)\n",
      "\n",
      "A number of datasets: 2\n",
      "\n",
      "Shape of the well dataset: (8754, 13)\n",
      "\n",
      "Shape of the medical dataset: (17500, 3)\n",
      "\n",
      "A number of changepoints in the well dataset: 52\n",
      "\n",
      "A number of changepoints in the medical dataset: 37\n",
      "\n",
      "Head of the well dataset:\n"
     ]
    },
    {
     "data": {
      "text/html": [
       "\n",
       "  <div id=\"df-f6b09b4c-bb11-4248-991e-3283bccb27fa\">\n",
       "    <div class=\"colab-df-container\">\n",
       "      <div>\n",
       "<style scoped>\n",
       "    .dataframe tbody tr th:only-of-type {\n",
       "        vertical-align: middle;\n",
       "    }\n",
       "\n",
       "    .dataframe tbody tr th {\n",
       "        vertical-align: top;\n",
       "    }\n",
       "\n",
       "    .dataframe thead th {\n",
       "        text-align: right;\n",
       "    }\n",
       "</style>\n",
       "<table border=\"1\" class=\"dataframe\">\n",
       "  <thead>\n",
       "    <tr style=\"text-align: right;\">\n",
       "      <th></th>\n",
       "      <th>m</th>\n",
       "      <th>v/v</th>\n",
       "      <th>v/v.1</th>\n",
       "      <th>uR/h</th>\n",
       "      <th>ohmm</th>\n",
       "      <th>ohmm.1</th>\n",
       "      <th>ohmm.2</th>\n",
       "      <th>ohmm.3</th>\n",
       "      <th>ohmm.5</th>\n",
       "      <th>ohmm.6</th>\n",
       "      <th>unitless</th>\n",
       "      <th>unitless.1</th>\n",
       "      <th>change_points</th>\n",
       "    </tr>\n",
       "  </thead>\n",
       "  <tbody>\n",
       "    <tr>\n",
       "      <th>0</th>\n",
       "      <td>3185.5</td>\n",
       "      <td>0.960549</td>\n",
       "      <td>0.901756</td>\n",
       "      <td>56.50</td>\n",
       "      <td>38.11802</td>\n",
       "      <td>46.61687</td>\n",
       "      <td>26.52874</td>\n",
       "      <td>36.00038</td>\n",
       "      <td>0.126035</td>\n",
       "      <td>0.126063</td>\n",
       "      <td>5</td>\n",
       "      <td>1</td>\n",
       "      <td>0</td>\n",
       "    </tr>\n",
       "    <tr>\n",
       "      <th>1</th>\n",
       "      <td>3185.6</td>\n",
       "      <td>0.960549</td>\n",
       "      <td>0.924199</td>\n",
       "      <td>55.10</td>\n",
       "      <td>38.51000</td>\n",
       "      <td>41.08000</td>\n",
       "      <td>28.23000</td>\n",
       "      <td>30.61000</td>\n",
       "      <td>0.126035</td>\n",
       "      <td>0.126062</td>\n",
       "      <td>5</td>\n",
       "      <td>1</td>\n",
       "      <td>0</td>\n",
       "    </tr>\n",
       "    <tr>\n",
       "      <th>2</th>\n",
       "      <td>3185.7</td>\n",
       "      <td>0.960549</td>\n",
       "      <td>0.920993</td>\n",
       "      <td>55.30</td>\n",
       "      <td>38.49500</td>\n",
       "      <td>40.22613</td>\n",
       "      <td>27.25827</td>\n",
       "      <td>29.11342</td>\n",
       "      <td>0.126035</td>\n",
       "      <td>0.126062</td>\n",
       "      <td>5</td>\n",
       "      <td>1</td>\n",
       "      <td>0</td>\n",
       "    </tr>\n",
       "    <tr>\n",
       "      <th>3</th>\n",
       "      <td>3185.8</td>\n",
       "      <td>0.960549</td>\n",
       "      <td>0.917787</td>\n",
       "      <td>55.50</td>\n",
       "      <td>38.48000</td>\n",
       "      <td>39.39000</td>\n",
       "      <td>26.32000</td>\n",
       "      <td>27.69000</td>\n",
       "      <td>0.126035</td>\n",
       "      <td>0.126062</td>\n",
       "      <td>5</td>\n",
       "      <td>1</td>\n",
       "      <td>0</td>\n",
       "    </tr>\n",
       "    <tr>\n",
       "      <th>4</th>\n",
       "      <td>3185.9</td>\n",
       "      <td>0.960549</td>\n",
       "      <td>0.922435</td>\n",
       "      <td>55.21</td>\n",
       "      <td>37.06394</td>\n",
       "      <td>38.07816</td>\n",
       "      <td>28.97599</td>\n",
       "      <td>30.48858</td>\n",
       "      <td>0.126035</td>\n",
       "      <td>0.126061</td>\n",
       "      <td>5</td>\n",
       "      <td>1</td>\n",
       "      <td>0</td>\n",
       "    </tr>\n",
       "  </tbody>\n",
       "</table>\n",
       "</div>\n",
       "      <button class=\"colab-df-convert\" onclick=\"convertToInteractive('df-f6b09b4c-bb11-4248-991e-3283bccb27fa')\"\n",
       "              title=\"Convert this dataframe to an interactive table.\"\n",
       "              style=\"display:none;\">\n",
       "        \n",
       "  <svg xmlns=\"http://www.w3.org/2000/svg\" height=\"24px\"viewBox=\"0 0 24 24\"\n",
       "       width=\"24px\">\n",
       "    <path d=\"M0 0h24v24H0V0z\" fill=\"none\"/>\n",
       "    <path d=\"M18.56 5.44l.94 2.06.94-2.06 2.06-.94-2.06-.94-.94-2.06-.94 2.06-2.06.94zm-11 1L8.5 8.5l.94-2.06 2.06-.94-2.06-.94L8.5 2.5l-.94 2.06-2.06.94zm10 10l.94 2.06.94-2.06 2.06-.94-2.06-.94-.94-2.06-.94 2.06-2.06.94z\"/><path d=\"M17.41 7.96l-1.37-1.37c-.4-.4-.92-.59-1.43-.59-.52 0-1.04.2-1.43.59L10.3 9.45l-7.72 7.72c-.78.78-.78 2.05 0 2.83L4 21.41c.39.39.9.59 1.41.59.51 0 1.02-.2 1.41-.59l7.78-7.78 2.81-2.81c.8-.78.8-2.07 0-2.86zM5.41 20L4 18.59l7.72-7.72 1.47 1.35L5.41 20z\"/>\n",
       "  </svg>\n",
       "      </button>\n",
       "      \n",
       "  <style>\n",
       "    .colab-df-container {\n",
       "      display:flex;\n",
       "      flex-wrap:wrap;\n",
       "      gap: 12px;\n",
       "    }\n",
       "\n",
       "    .colab-df-convert {\n",
       "      background-color: #E8F0FE;\n",
       "      border: none;\n",
       "      border-radius: 50%;\n",
       "      cursor: pointer;\n",
       "      display: none;\n",
       "      fill: #1967D2;\n",
       "      height: 32px;\n",
       "      padding: 0 0 0 0;\n",
       "      width: 32px;\n",
       "    }\n",
       "\n",
       "    .colab-df-convert:hover {\n",
       "      background-color: #E2EBFA;\n",
       "      box-shadow: 0px 1px 2px rgba(60, 64, 67, 0.3), 0px 1px 3px 1px rgba(60, 64, 67, 0.15);\n",
       "      fill: #174EA6;\n",
       "    }\n",
       "\n",
       "    [theme=dark] .colab-df-convert {\n",
       "      background-color: #3B4455;\n",
       "      fill: #D2E3FC;\n",
       "    }\n",
       "\n",
       "    [theme=dark] .colab-df-convert:hover {\n",
       "      background-color: #434B5C;\n",
       "      box-shadow: 0px 1px 3px 1px rgba(0, 0, 0, 0.15);\n",
       "      filter: drop-shadow(0px 1px 2px rgba(0, 0, 0, 0.3));\n",
       "      fill: #FFFFFF;\n",
       "    }\n",
       "  </style>\n",
       "\n",
       "      <script>\n",
       "        const buttonEl =\n",
       "          document.querySelector('#df-f6b09b4c-bb11-4248-991e-3283bccb27fa button.colab-df-convert');\n",
       "        buttonEl.style.display =\n",
       "          google.colab.kernel.accessAllowed ? 'block' : 'none';\n",
       "\n",
       "        async function convertToInteractive(key) {\n",
       "          const element = document.querySelector('#df-f6b09b4c-bb11-4248-991e-3283bccb27fa');\n",
       "          const dataTable =\n",
       "            await google.colab.kernel.invokeFunction('convertToInteractive',\n",
       "                                                     [key], {});\n",
       "          if (!dataTable) return;\n",
       "\n",
       "          const docLinkHtml = 'Like what you see? Visit the ' +\n",
       "            '<a target=\"_blank\" href=https://colab.research.google.com/notebooks/data_table.ipynb>data table notebook</a>'\n",
       "            + ' to learn more about interactive tables.';\n",
       "          element.innerHTML = '';\n",
       "          dataTable['output_type'] = 'display_data';\n",
       "          await google.colab.output.renderOutput(dataTable, element);\n",
       "          const docLink = document.createElement('div');\n",
       "          docLink.innerHTML = docLinkHtml;\n",
       "          element.appendChild(docLink);\n",
       "        }\n",
       "      </script>\n",
       "    </div>\n",
       "  </div>\n",
       "  "
      ],
      "text/plain": [
       "        m       v/v     v/v.1   uR/h      ohmm    ohmm.1    ohmm.2    ohmm.3  \\\n",
       "0  3185.5  0.960549  0.901756  56.50  38.11802  46.61687  26.52874  36.00038   \n",
       "1  3185.6  0.960549  0.924199  55.10  38.51000  41.08000  28.23000  30.61000   \n",
       "2  3185.7  0.960549  0.920993  55.30  38.49500  40.22613  27.25827  29.11342   \n",
       "3  3185.8  0.960549  0.917787  55.50  38.48000  39.39000  26.32000  27.69000   \n",
       "4  3185.9  0.960549  0.922435  55.21  37.06394  38.07816  28.97599  30.48858   \n",
       "\n",
       "     ohmm.5    ohmm.6  unitless  unitless.1  change_points  \n",
       "0  0.126035  0.126063         5           1              0  \n",
       "1  0.126035  0.126062         5           1              0  \n",
       "2  0.126035  0.126062         5           1              0  \n",
       "3  0.126035  0.126062         5           1              0  \n",
       "4  0.126035  0.126061         5           1              0  "
      ]
     },
     "metadata": {},
     "output_type": "display_data"
    },
    {
     "name": "stdout",
     "output_type": "stream",
     "text": [
      "Head of the well dataset:\n"
     ]
    },
    {
     "data": {
      "text/html": [
       "\n",
       "  <div id=\"df-f232ddca-5a15-4772-9666-bf8dc3f5f32f\">\n",
       "    <div class=\"colab-df-container\">\n",
       "      <div>\n",
       "<style scoped>\n",
       "    .dataframe tbody tr th:only-of-type {\n",
       "        vertical-align: middle;\n",
       "    }\n",
       "\n",
       "    .dataframe tbody tr th {\n",
       "        vertical-align: top;\n",
       "    }\n",
       "\n",
       "    .dataframe thead th {\n",
       "        text-align: right;\n",
       "    }\n",
       "</style>\n",
       "<table border=\"1\" class=\"dataframe\">\n",
       "  <thead>\n",
       "    <tr style=\"text-align: right;\">\n",
       "      <th></th>\n",
       "      <th>Time</th>\n",
       "      <th>EcgWaveform</th>\n",
       "      <th>change_points</th>\n",
       "    </tr>\n",
       "  </thead>\n",
       "  <tbody>\n",
       "    <tr>\n",
       "      <th>0</th>\n",
       "      <td>04/08/2022 08:38:37.946</td>\n",
       "      <td>2450</td>\n",
       "      <td>0</td>\n",
       "    </tr>\n",
       "    <tr>\n",
       "      <th>1</th>\n",
       "      <td>04/08/2022 08:38:37.947</td>\n",
       "      <td>2447</td>\n",
       "      <td>0</td>\n",
       "    </tr>\n",
       "    <tr>\n",
       "      <th>2</th>\n",
       "      <td>04/08/2022 08:38:37.948</td>\n",
       "      <td>2445</td>\n",
       "      <td>0</td>\n",
       "    </tr>\n",
       "    <tr>\n",
       "      <th>3</th>\n",
       "      <td>04/08/2022 08:38:37.949</td>\n",
       "      <td>2442</td>\n",
       "      <td>0</td>\n",
       "    </tr>\n",
       "    <tr>\n",
       "      <th>4</th>\n",
       "      <td>04/08/2022 08:38:37.950</td>\n",
       "      <td>2440</td>\n",
       "      <td>0</td>\n",
       "    </tr>\n",
       "  </tbody>\n",
       "</table>\n",
       "</div>\n",
       "      <button class=\"colab-df-convert\" onclick=\"convertToInteractive('df-f232ddca-5a15-4772-9666-bf8dc3f5f32f')\"\n",
       "              title=\"Convert this dataframe to an interactive table.\"\n",
       "              style=\"display:none;\">\n",
       "        \n",
       "  <svg xmlns=\"http://www.w3.org/2000/svg\" height=\"24px\"viewBox=\"0 0 24 24\"\n",
       "       width=\"24px\">\n",
       "    <path d=\"M0 0h24v24H0V0z\" fill=\"none\"/>\n",
       "    <path d=\"M18.56 5.44l.94 2.06.94-2.06 2.06-.94-2.06-.94-.94-2.06-.94 2.06-2.06.94zm-11 1L8.5 8.5l.94-2.06 2.06-.94-2.06-.94L8.5 2.5l-.94 2.06-2.06.94zm10 10l.94 2.06.94-2.06 2.06-.94-2.06-.94-.94-2.06-.94 2.06-2.06.94z\"/><path d=\"M17.41 7.96l-1.37-1.37c-.4-.4-.92-.59-1.43-.59-.52 0-1.04.2-1.43.59L10.3 9.45l-7.72 7.72c-.78.78-.78 2.05 0 2.83L4 21.41c.39.39.9.59 1.41.59.51 0 1.02-.2 1.41-.59l7.78-7.78 2.81-2.81c.8-.78.8-2.07 0-2.86zM5.41 20L4 18.59l7.72-7.72 1.47 1.35L5.41 20z\"/>\n",
       "  </svg>\n",
       "      </button>\n",
       "      \n",
       "  <style>\n",
       "    .colab-df-container {\n",
       "      display:flex;\n",
       "      flex-wrap:wrap;\n",
       "      gap: 12px;\n",
       "    }\n",
       "\n",
       "    .colab-df-convert {\n",
       "      background-color: #E8F0FE;\n",
       "      border: none;\n",
       "      border-radius: 50%;\n",
       "      cursor: pointer;\n",
       "      display: none;\n",
       "      fill: #1967D2;\n",
       "      height: 32px;\n",
       "      padding: 0 0 0 0;\n",
       "      width: 32px;\n",
       "    }\n",
       "\n",
       "    .colab-df-convert:hover {\n",
       "      background-color: #E2EBFA;\n",
       "      box-shadow: 0px 1px 2px rgba(60, 64, 67, 0.3), 0px 1px 3px 1px rgba(60, 64, 67, 0.15);\n",
       "      fill: #174EA6;\n",
       "    }\n",
       "\n",
       "    [theme=dark] .colab-df-convert {\n",
       "      background-color: #3B4455;\n",
       "      fill: #D2E3FC;\n",
       "    }\n",
       "\n",
       "    [theme=dark] .colab-df-convert:hover {\n",
       "      background-color: #434B5C;\n",
       "      box-shadow: 0px 1px 3px 1px rgba(0, 0, 0, 0.15);\n",
       "      filter: drop-shadow(0px 1px 2px rgba(0, 0, 0, 0.3));\n",
       "      fill: #FFFFFF;\n",
       "    }\n",
       "  </style>\n",
       "\n",
       "      <script>\n",
       "        const buttonEl =\n",
       "          document.querySelector('#df-f232ddca-5a15-4772-9666-bf8dc3f5f32f button.colab-df-convert');\n",
       "        buttonEl.style.display =\n",
       "          google.colab.kernel.accessAllowed ? 'block' : 'none';\n",
       "\n",
       "        async function convertToInteractive(key) {\n",
       "          const element = document.querySelector('#df-f232ddca-5a15-4772-9666-bf8dc3f5f32f');\n",
       "          const dataTable =\n",
       "            await google.colab.kernel.invokeFunction('convertToInteractive',\n",
       "                                                     [key], {});\n",
       "          if (!dataTable) return;\n",
       "\n",
       "          const docLinkHtml = 'Like what you see? Visit the ' +\n",
       "            '<a target=\"_blank\" href=https://colab.research.google.com/notebooks/data_table.ipynb>data table notebook</a>'\n",
       "            + ' to learn more about interactive tables.';\n",
       "          element.innerHTML = '';\n",
       "          dataTable['output_type'] = 'display_data';\n",
       "          await google.colab.output.renderOutput(dataTable, element);\n",
       "          const docLink = document.createElement('div');\n",
       "          docLink.innerHTML = docLinkHtml;\n",
       "          element.appendChild(docLink);\n",
       "        }\n",
       "      </script>\n",
       "    </div>\n",
       "  </div>\n",
       "  "
      ],
      "text/plain": [
       "                      Time  EcgWaveform  change_points\n",
       "0  04/08/2022 08:38:37.946         2450              0\n",
       "1  04/08/2022 08:38:37.947         2447              0\n",
       "2  04/08/2022 08:38:37.948         2445              0\n",
       "3  04/08/2022 08:38:37.949         2442              0\n",
       "4  04/08/2022 08:38:37.950         2440              0"
      ]
     },
     "metadata": {},
     "output_type": "display_data"
    }
   ],
   "source": [
    "# dataset characteristics printing\n",
    "print(f'A number of datasets: {2}\\n')\n",
    "print(f'Shape of the well dataset: {ts_data_1.shape}\\n')\n",
    "print(f'Shape of the medical dataset: {ts_data_2.shape}\\n')\n",
    "cp_1 = []\n",
    "temp_value_second = 0\n",
    "for i in range(len(ts_data_1)):\n",
    "    temp_value = ts_data_1['unitless'][i]\n",
    "    if temp_value != temp_value_second:\n",
    "        cp_1.append(1)\n",
    "    else:\n",
    "        cp_1.append(0)\n",
    "    temp_value_second = temp_value\n",
    "cp_1[0] = 0\n",
    "cp_2 = []\n",
    "peaks, _ = find_peaks(ts_data_2['EcgWaveform'], distance=250)\n",
    "for i in range(len(ts_data_2)):\n",
    "    if i not in peaks:\n",
    "        cp_2.append(0)\n",
    "    else:\n",
    "        cp_2.append(1)\n",
    "ts_data_1['change_points'] = cp_1\n",
    "ts_data_2['change_points'] = cp_2\n",
    "print(f'A number of datasets: {2}\\n')\n",
    "print(f'Shape of the well dataset: {ts_data_1.shape}\\n')\n",
    "print(f'Shape of the medical dataset: {ts_data_2.shape}\\n')\n",
    "n_cp_1 = cp_1.count(1)\n",
    "n_cp_2 = cp_2.count(1)\n",
    "print(f'A number of changepoints in the well dataset: {n_cp_1}\\n')\n",
    "print(f'A number of changepoints in the medical dataset: {n_cp_2}\\n')\n",
    "print(f'Head of the well dataset:')\n",
    "display(ts_data_1.head())\n",
    "print(f'Head of the well dataset:')\n",
    "display(ts_data_2.head())"
   ]
  },
  {
   "cell_type": "code",
   "execution_count": 10,
   "metadata": {
    "colab": {
     "base_uri": "https://localhost:8080/",
     "height": 404
    },
    "id": "LB0qmh98p7QR",
    "outputId": "cb3684fd-eecf-4097-fdb2-47e4e76042a3"
   },
   "outputs": [
    {
     "data": {
      "image/png": "[encoded data removed]",
      "text/plain": [
       "<Figure size 864x432 with 1 Axes>"
      ]
     },
     "metadata": {
      "needs_background": "light"
     },
     "output_type": "display_data"
    }
   ],
   "source": [
    "# well dataset visualizing\n",
    "ts_data_1.plot(figsize=(12,6))\n",
    "plt.xlabel('Time')\n",
    "plt.ylabel('Value')\n",
    "plt.title('Signals')\n",
    "plt.show()"
   ]
  },
  {
   "cell_type": "code",
   "execution_count": 11,
   "metadata": {
    "colab": {
     "base_uri": "https://localhost:8080/",
     "height": 404
    },
    "id": "z24prKOBp83g",
    "outputId": "fd9aa24e-b122-4c19-d17f-da10b86137fe"
   },
   "outputs": [
    {
     "data": {
      "image/png": "[encoded data removed]",
      "text/plain": [
       "<Figure size 864x432 with 1 Axes>"
      ]
     },
     "metadata": {
      "needs_background": "light"
     },
     "output_type": "display_data"
    }
   ],
   "source": [
    "# medical dataset visualizing\n",
    "ts_data_2.plot(figsize=(12,6))\n",
    "plt.xlabel('Time')\n",
    "plt.ylabel('Value')\n",
    "plt.title('Signals')\n",
    "plt.show()"
   ]
  },
  {
   "cell_type": "code",
   "execution_count": 12,
   "metadata": {
    "id": "DV4uHibhp-IK"
   },
   "outputs": [],
   "source": [
    "\n",
    "list_of_df = [ts_data_1[['change_points','uR/h','ohmm']], ts_data_2.drop('Time', axis=1)]"
   ]
  },
  {
   "cell_type": "markdown",
   "metadata": {
    "id": "XzfDGeXjqBBs"
   },
   "source": [
    "# Method applying"
   ]
  },
  {
   "cell_type": "code",
   "execution_count": 13,
   "metadata": {
    "id": "NSuN_UtcK8F6"
   },
   "outputs": [],
   "source": [
    "# classifier initializing\n",
    "clf = IsolationForest(random_state=0, \n",
    "                      n_jobs=-1,\n",
    "                      contamination=0.01)"
   ]
  },
  {
   "cell_type": "code",
   "execution_count": 15,
   "metadata": {
    "colab": {
     "base_uri": "https://localhost:8080/"
    },
    "id": "AiQtEKliK8NH",
    "outputId": "016c8124-8abc-49c3-8dc4-80474e04654a"
   },
   "outputs": [
    {
     "name": "stderr",
     "output_type": "stream",
     "text": [
      "X does not have valid feature names, but IsolationForest was fitted with feature names\n",
      "X does not have valid feature names, but IsolationForest was fitted with feature names\n"
     ]
    }
   ],
   "source": [
    "# inference\n",
    "predicted_outlier, predicted_cp = [], []\n",
    "for df in list_of_df:\n",
    "    X_train = df[:400].drop(['change_points'], axis=1)\n",
    "    \n",
    "    # classifier fitting\n",
    "    clf.fit(X_train)\n",
    "\n",
    "    # results predicting\n",
    "    prediction = pd.Series(clf.predict(df.drop(['change_points'], axis=1))*-1, \n",
    "                                index=df.index).rolling(3).median().fillna(0).replace(-1,0)\n",
    "    \n",
    "    # predicted outliers saving\n",
    "    predicted_outlier.append(prediction)\n",
    "    \n",
    "    # predicted CPs saving\n",
    "    prediction_cp = abs(prediction.diff())\n",
    "    prediction_cp[0] = prediction[0]\n",
    "    predicted_cp.append(prediction_cp)"
   ]
  },
  {
   "cell_type": "markdown",
   "metadata": {},
   "source": [
    "# Results"
   ]
  },
  {
   "cell_type": "code",
   "execution_count": 17,
   "metadata": {
    "colab": {
     "base_uri": "https://localhost:8080/",
     "height": 211
    },
    "id": "qaES3oEZK8P1",
    "outputId": "8736175f-0701-4bf7-81ca-a93f7fdf194b"
   },
   "outputs": [
    {
     "data": {
      "image/png": "[encoded data removed]",
      "text/plain": [
       "<Figure size 864x216 with 1 Axes>"
      ]
     },
     "metadata": {
      "needs_background": "light"
     },
     "output_type": "display_data"
    }
   ],
   "source": [
    "# true changepoint indices selection\n",
    "true_cp = [df.change_points for df in list_of_df]\n",
    "\n",
    "predicted_cp[0].plot(figsize=(12,3), label='predictions', marker='o', markersize=5)\n",
    "true_cp[0].plot(marker='o', markersize=2)\n",
    "plt.legend();"
   ]
  },
  {
   "cell_type": "markdown",
   "metadata": {
    "id": "XeTIm2l6GNRd"
   },
   "source": [
    "# Metrics calculation"
   ]
  },
  {
   "cell_type": "code",
   "execution_count": 18,
   "metadata": {
    "id": "-218Z6l9flXE"
   },
   "outputs": [],
   "source": [
    "from datetime import datetime, timedelta"
   ]
  },
  {
   "cell_type": "code",
   "execution_count": 19,
   "metadata": {
    "id": "V7w4AwFcjupX"
   },
   "outputs": [],
   "source": [
    "true_cp = [df.change_points for df in list_of_df]"
   ]
  },
  {
   "cell_type": "code",
   "execution_count": 20,
   "metadata": {
    "id": "dr_Y8FfQflfI"
   },
   "outputs": [],
   "source": [
    "t_0 = np.arange(len(true_cp[0])).astype('datetime64[s]')\n",
    "t_1 = np.arange(len(true_cp[1])).astype('datetime64[s]')"
   ]
  },
  {
   "cell_type": "code",
   "execution_count": 21,
   "metadata": {
    "id": "-03zCAeSflj7"
   },
   "outputs": [],
   "source": [
    "df_0 = pd.DataFrame(index=t_0, columns=['predicted_cp'])\n",
    "df_0['predicted_cp'] = np.array(predicted_cp[0])\n",
    "df_0['true_cp'] = np.array(true_cp[0])"
   ]
  },
  {
   "cell_type": "code",
   "execution_count": 22,
   "metadata": {
    "id": "T-a3p9_0flmi"
   },
   "outputs": [],
   "source": [
    "df_1 = pd.DataFrame(index=t_1, columns=['predicted_cp'])\n",
    "df_1['predicted_cp'] = np.array(predicted_cp[1])\n",
    "df_1['true_cp'] = np.array(true_cp[1])"
   ]
  },
  {
   "cell_type": "code",
   "execution_count": 23,
   "metadata": {
    "colab": {
     "base_uri": "https://localhost:8080/"
    },
    "id": "aukkTwHlfltB",
    "outputId": "54a7d658-2b9d-42ad-b0f5-2b7ad0c65953"
   },
   "outputs": [
    {
     "name": "stdout",
     "output_type": "stream",
     "text": [
      "Intersection of scoring windows(Timestamp('1970-01-01 00:18:00'), Timestamp('1970-01-01 00:17:54'))\n",
      "Intersection of scoring windows(Timestamp('1970-01-01 00:18:24'), Timestamp('1970-01-01 00:18:16'))\n",
      "Intersection of scoring windows(Timestamp('1970-01-01 00:18:46'), Timestamp('1970-01-01 00:18:31'))\n",
      "Intersection of scoring windows(Timestamp('1970-01-01 00:19:01'), Timestamp('1970-01-01 00:18:45'))\n",
      "Intersection of scoring windows(Timestamp('1970-01-01 00:19:15'), Timestamp('1970-01-01 00:19:01'))\n",
      "Intersection of scoring windows(Timestamp('1970-01-01 00:19:31'), Timestamp('1970-01-01 00:19:13'))\n",
      "Intersection of scoring windows(Timestamp('1970-01-01 00:23:33'), Timestamp('1970-01-01 00:23:25'))\n",
      "Intersection of scoring windows(Timestamp('1970-01-01 00:30:52'), Timestamp('1970-01-01 00:30:47'))\n",
      "Intersection of scoring windows(Timestamp('1970-01-01 00:36:01'), Timestamp('1970-01-01 00:36:01'))\n",
      "Intersection of scoring windows(Timestamp('1970-01-01 00:53:29'), Timestamp('1970-01-01 00:53:17'))\n",
      "Intersection of scoring windows(Timestamp('1970-01-01 00:59:17'), Timestamp('1970-01-01 00:59:05'))\n",
      "Intersection of scoring windows(Timestamp('1970-01-01 01:29:45'), Timestamp('1970-01-01 01:29:32'))\n",
      "Intersection of scoring windows(Timestamp('1970-01-01 02:14:41'), Timestamp('1970-01-01 02:14:40'))\n",
      "Standart  -  14.27\n",
      "LowFP  -  6.72\n",
      "LowFN  -  19.77\n"
     ]
    }
   ],
   "source": [
    "# nab metric calculation\n",
    "nab = evaluating(df_0['true_cp'], df_0['predicted_cp'], metric='nab', numenta_time='30 sec')"
   ]
  },
  {
   "cell_type": "code",
   "execution_count": 24,
   "metadata": {
    "colab": {
     "base_uri": "https://localhost:8080/"
    },
    "id": "sdkp29HufwQv",
    "outputId": "91e16ef2-a401-48cd-fb66-a8e982d2c794"
   },
   "outputs": [
    {
     "name": "stdout",
     "output_type": "stream",
     "text": [
      "Intersection of scoring windows(Timestamp('1970-01-01 00:18:00'), Timestamp('1970-01-01 00:17:54'))\n",
      "Intersection of scoring windows(Timestamp('1970-01-01 00:18:24'), Timestamp('1970-01-01 00:18:16'))\n",
      "Intersection of scoring windows(Timestamp('1970-01-01 00:18:46'), Timestamp('1970-01-01 00:18:31'))\n",
      "Intersection of scoring windows(Timestamp('1970-01-01 00:19:01'), Timestamp('1970-01-01 00:18:45'))\n",
      "Intersection of scoring windows(Timestamp('1970-01-01 00:19:15'), Timestamp('1970-01-01 00:19:01'))\n",
      "Intersection of scoring windows(Timestamp('1970-01-01 00:19:31'), Timestamp('1970-01-01 00:19:13'))\n",
      "Intersection of scoring windows(Timestamp('1970-01-01 00:23:33'), Timestamp('1970-01-01 00:23:25'))\n",
      "Intersection of scoring windows(Timestamp('1970-01-01 00:30:52'), Timestamp('1970-01-01 00:30:47'))\n",
      "Intersection of scoring windows(Timestamp('1970-01-01 00:36:01'), Timestamp('1970-01-01 00:36:01'))\n",
      "Intersection of scoring windows(Timestamp('1970-01-01 00:53:29'), Timestamp('1970-01-01 00:53:17'))\n",
      "Intersection of scoring windows(Timestamp('1970-01-01 00:59:17'), Timestamp('1970-01-01 00:59:05'))\n",
      "Intersection of scoring windows(Timestamp('1970-01-01 01:29:45'), Timestamp('1970-01-01 01:29:32'))\n",
      "Intersection of scoring windows(Timestamp('1970-01-01 02:14:41'), Timestamp('1970-01-01 02:14:40'))\n",
      "Amount of true anomalies 52\n",
      "A number of missed CPs = 36\n",
      "A number of FPs = 62\n",
      "Average time 0 days 00:00:12.187500\n"
     ]
    }
   ],
   "source": [
    "# average detection delay metric calculation\n",
    "add = evaluating(df_0['true_cp'], df_0['predicted_cp'], metric='average_time', numenta_time='30 sec')"
   ]
  },
  {
   "cell_type": "code",
   "execution_count": 25,
   "metadata": {
    "colab": {
     "base_uri": "https://localhost:8080/"
    },
    "id": "e9fTVhvafyPM",
    "outputId": "b8a4ab6a-c0ce-42e2-c6cc-c40fb199a398"
   },
   "outputs": [
    {
     "name": "stdout",
     "output_type": "stream",
     "text": [
      "Standart  -  2.51\n",
      "LowFP  -  0.48\n",
      "LowFN  -  4.37\n"
     ]
    }
   ],
   "source": [
    "# nab metric calculation\n",
    "nab = evaluating(df_1['true_cp'], df_1['predicted_cp'], metric='nab', numenta_time='30 sec')"
   ]
  },
  {
   "cell_type": "code",
   "execution_count": 26,
   "metadata": {
    "colab": {
     "base_uri": "https://localhost:8080/"
    },
    "id": "hNt59BaGf0YF",
    "outputId": "d0c9f0cd-0803-4d1f-e8bf-cb88fb1e23bc"
   },
   "outputs": [
    {
     "name": "stdout",
     "output_type": "stream",
     "text": [
      "Amount of true anomalies 37\n",
      "A number of missed CPs = 34\n",
      "A number of FPs = 11\n",
      "Average time 0 days 00:00:04.666666666\n"
     ]
    }
   ],
   "source": [
    "# average detection delay metric calculation\n",
    "add = evaluating(df_1['true_cp'], df_1['predicted_cp'], metric='average_time', numenta_time='30 sec')"
   ]
  }
 ],
 "metadata": {
  "colab": {
   "provenance": []
  },
  "kernelspec": {
   "display_name": "Python 3 (ipykernel)",
   "language": "python",
   "name": "python3"
  },
  "language_info": {
   "codemirror_mode": {
    "name": "ipython",
    "version": 3
   },
   "file_extension": ".py",
   "mimetype": "text/x-python",
   "name": "python",
   "nbconvert_exporter": "python",
   "pygments_lexer": "ipython3",
   "version": "3.9.12"
  }
 },
 "nbformat": 4,
 "nbformat_minor": 1
}
