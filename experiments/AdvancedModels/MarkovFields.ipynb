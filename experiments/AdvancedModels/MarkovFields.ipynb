{
 "cells": [
  {
   "cell_type": "markdown",
   "id": "43763c5b-8ec0-4367-a151-6199077d3acf",
   "metadata": {},
   "source": [
    "# Import libs"
   ]
  },
  {
   "cell_type": "code",
   "execution_count": 1,
   "id": "116c3b31-6800-420b-a3f3-b56cb7c2312f",
   "metadata": {},
   "outputs": [],
   "source": [
    "import pandas as pd\n",
    "import numpy as np\n",
    "import matplotlib.pyplot as plt\n",
    "# from pyts.image import MarkovTransitionField\n",
    "\n",
    "\n",
    "import sys, os\n",
    "sys.path.append(\"../..\")"
   ]
  },
  {
   "cell_type": "markdown",
   "id": "ef342ed0-7a98-4955-b2b6-c66f2d395a75",
   "metadata": {},
   "source": [
    "# # Transform sample of data via Single Markov Transition Field"
   ]
  },
  {
   "cell_type": "markdown",
   "id": "06548f9a-968f-4765-a34c-31d9cf6faa0c",
   "metadata": {},
   "source": [
    "https://pyts.readthedocs.io/en/stable/auto_examples/image/plot_single_mtf.html"
   ]
  },
  {
   "cell_type": "code",
   "execution_count": 2,
   "id": "e31e16bb-0569-4570-8577-52e0756f5648",
   "metadata": {},
   "outputs": [],
   "source": [
    "# # Compute Gramian angular fields\n",
    "# mtf = MarkovTransitionField(n_bins=8)\n",
    "# X_mtf = mtf.fit_transform([normalized_ts])"
   ]
  },
  {
   "cell_type": "code",
   "execution_count": 3,
   "id": "43b7276b-4dc4-4b8d-84d2-dab67c3e1c55",
   "metadata": {},
   "outputs": [],
   "source": [
    "# plt.figure(figsize=(5,5))\n",
    "# plt.imshow(np.squeeze(X_mtf), interpolation='none')\n",
    "# plt.show()"
   ]
  },
  {
   "cell_type": "code",
   "execution_count": null,
   "id": "8ac2e510-5d67-4b13-8dde-0f82e83ee865",
   "metadata": {},
   "outputs": [],
   "source": []
  }
 ],
 "metadata": {
  "kernelspec": {
   "display_name": "Python 3 (ipykernel)",
   "language": "python",
   "name": "python3"
  },
  "language_info": {
   "codemirror_mode": {
    "name": "ipython",
    "version": 3
   },
   "file_extension": ".py",
   "mimetype": "text/x-python",
   "name": "python",
   "nbconvert_exporter": "python",
   "pygments_lexer": "ipython3",
   "version": "3.10.12"
  }
 },
 "nbformat": 4,
 "nbformat_minor": 5
}
