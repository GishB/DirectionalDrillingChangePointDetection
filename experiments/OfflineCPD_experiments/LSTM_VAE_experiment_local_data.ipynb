{
 "cells": [
  {
   "cell_type": "code",
   "execution_count": 1,
   "metadata": {
    "colab": {
     "base_uri": "https://localhost:8080/"
    },
    "id": "bLZ1mc4S-Ye_",
    "outputId": "ddd2b8c8-9489-44c7-d5a5-c183514d4a88"
   },
   "outputs": [],
   "source": [
    "#pip install tsad"
   ]
  },
  {
   "cell_type": "markdown",
   "metadata": {},
   "source": [
    "# Pipeline for the anomaly detection on the SKAB using LSTM-VAE"
   ]
  },
  {
   "cell_type": "code",
   "execution_count": 6,
   "metadata": {
    "id": "FVOZLObA_YUy"
   },
   "outputs": [],
   "source": [
    "# libraries importing\n",
    "import pandas as pd\n",
    "import numpy as np\n",
    "import matplotlib.pyplot as plt\n",
    "%matplotlib inline\n",
    "\n",
    "# additional modules\n",
    "import sys\n",
    "sys.path.append('../utils')\n",
    "from io import StringIO\n",
    "import requests\n",
    "from tsad.evaluating.evaluating import evaluating\n"
   ]
  },
  {
   "cell_type": "markdown",
   "metadata": {},
   "source": [
    "# Data loading"
   ]
  },
  {
   "cell_type": "code",
   "execution_count": 7,
   "metadata": {
    "id": "tRVhATf5_SLF"
   },
   "outputs": [],
   "source": [
    "def dataframe_expirement(i):\n",
    "    if i == 1:\n",
    "        url = \"https://storage.yandexcloud.net/cloud-files-public/dataframe.csv\" \n",
    "        df = pd.read_csv(StringIO(requests.get(url).content.decode('utf-8')), sep='|')\n",
    "    else:\n",
    "        url = \"https://storage.yandexcloud.net/cloud-files-public/noname_ECG_2022.csv\" \n",
    "        df = pd.read_csv(StringIO(requests.get(url).content.decode('utf-8')), sep=',')\n",
    "    return df"
   ]
  },
  {
   "cell_type": "code",
   "execution_count": 32,
   "metadata": {},
   "outputs": [],
   "source": [
    "df = dataframe_expirement(1)\n",
    "df = df[df[df.columns[0]] == 'xxxAA564G']\n",
    "\n",
    "df.replace(['-9999', -9999,'missing','#'], np.nan, inplace=True)\n",
    "df = df[df['unitless'].notna()]\n",
    "df = df[df['uR/h'].notna()]\n",
    "df = df[df['ohmm'].notna()]\n",
    "df_ = df.drop(axis=1, labels=(df.columns[0])) \\\n",
    "    .drop(axis=1, labels=(df.columns[1]))[['uR/h', 'unitless','ohmm']].reset_index(drop=True)"
   ]
  },
  {
   "cell_type": "code",
   "execution_count": 33,
   "metadata": {
    "id": "D5rTLHE6BoZb"
   },
   "outputs": [],
   "source": [
    "# ts_data_1, ts_data_2 = dataframe_expirement(1), dataframe_expirement(0).iloc[2500:].reset_index().drop(labels='index',axis=1)"
   ]
  },
  {
   "cell_type": "code",
   "execution_count": 34,
   "metadata": {},
   "outputs": [],
   "source": [
    "ts_data_1 = df_"
   ]
  },
  {
   "cell_type": "markdown",
   "metadata": {},
   "source": [
    "# Data description and visualization"
   ]
  },
  {
   "cell_type": "code",
   "execution_count": 35,
   "metadata": {
    "id": "9ejcM_4jBrUE"
   },
   "outputs": [],
   "source": [
    "from scipy.signal import find_peaks"
   ]
  },
  {
   "cell_type": "code",
   "execution_count": 36,
   "metadata": {
    "id": "F0j5Eaq5Bzxc"
   },
   "outputs": [],
   "source": [
    "def plot_data_scores_and_selected_window(ts, score_list, window_size_selected):\n",
    "    f, ax = plt.subplots(2, 1, figsize=(30, 20))\n",
    "    ax[0].plot(ts)\n",
    "    ax[0].vlines(x=window_size_selected, ymin=min(ts), ymax=max(ts),\n",
    "        linestyle = ':',\n",
    "        linewidth = 6,\n",
    "        color = 'darkblue')\n",
    "    ax[0].set_title(\"ts\")\n",
    "    ax[1].plot(score_list, \"r\")\n",
    "    ax[1].set_title(\"score\")\n",
    "    f.show()"
   ]
  },
  {
   "cell_type": "code",
   "execution_count": 37,
   "metadata": {
    "colab": {
     "base_uri": "https://localhost:8080/",
     "height": 708
    },
    "id": "CM7TBPnIB1aM",
    "outputId": "f2111d0c-7c51-465b-c50f-639d30e5b46a"
   },
   "outputs": [
    {
     "name": "stdout",
     "output_type": "stream",
     "text": [
      "A number of datasets: 2\n",
      "\n",
      "Shape of the well dataset: (8754, 3)\n",
      "\n",
      "A number of datasets: 2\n",
      "\n",
      "Shape of the well dataset: (8754, 4)\n",
      "\n",
      "A number of changepoints in the well dataset: 52\n",
      "\n",
      "Head of the well dataset:\n"
     ]
    },
    {
     "data": {
      "text/html": [
       "<div>\n",
       "<style scoped>\n",
       "    .dataframe tbody tr th:only-of-type {\n",
       "        vertical-align: middle;\n",
       "    }\n",
       "\n",
       "    .dataframe tbody tr th {\n",
       "        vertical-align: top;\n",
       "    }\n",
       "\n",
       "    .dataframe thead th {\n",
       "        text-align: right;\n",
       "    }\n",
       "</style>\n",
       "<table border=\"1\" class=\"dataframe\">\n",
       "  <thead>\n",
       "    <tr style=\"text-align: right;\">\n",
       "      <th></th>\n",
       "      <th>uR/h</th>\n",
       "      <th>unitless</th>\n",
       "      <th>ohmm</th>\n",
       "      <th>change_points</th>\n",
       "    </tr>\n",
       "  </thead>\n",
       "  <tbody>\n",
       "    <tr>\n",
       "      <th>0</th>\n",
       "      <td>56.50</td>\n",
       "      <td>5.0</td>\n",
       "      <td>38.11802</td>\n",
       "      <td>0</td>\n",
       "    </tr>\n",
       "    <tr>\n",
       "      <th>1</th>\n",
       "      <td>55.10</td>\n",
       "      <td>5.0</td>\n",
       "      <td>38.51000</td>\n",
       "      <td>0</td>\n",
       "    </tr>\n",
       "    <tr>\n",
       "      <th>2</th>\n",
       "      <td>55.30</td>\n",
       "      <td>5.0</td>\n",
       "      <td>38.49500</td>\n",
       "      <td>0</td>\n",
       "    </tr>\n",
       "    <tr>\n",
       "      <th>3</th>\n",
       "      <td>55.50</td>\n",
       "      <td>5.0</td>\n",
       "      <td>38.48000</td>\n",
       "      <td>0</td>\n",
       "    </tr>\n",
       "    <tr>\n",
       "      <th>4</th>\n",
       "      <td>55.21</td>\n",
       "      <td>5.0</td>\n",
       "      <td>37.06394</td>\n",
       "      <td>0</td>\n",
       "    </tr>\n",
       "  </tbody>\n",
       "</table>\n",
       "</div>"
      ],
      "text/plain": [
       "    uR/h  unitless      ohmm  change_points\n",
       "0  56.50       5.0  38.11802              0\n",
       "1  55.10       5.0  38.51000              0\n",
       "2  55.30       5.0  38.49500              0\n",
       "3  55.50       5.0  38.48000              0\n",
       "4  55.21       5.0  37.06394              0"
      ]
     },
     "metadata": {},
     "output_type": "display_data"
    }
   ],
   "source": [
    "# dataset characteristics printing\n",
    "print(f'A number of datasets: {2}\\n')\n",
    "print(f'Shape of the well dataset: {ts_data_1.shape}\\n')\n",
    "# print(f'Shape of the medical dataset: {ts_data_2.shape}\\n')\n",
    "cp_1 = []\n",
    "temp_value_second = 0\n",
    "for i in range(len(ts_data_1)):\n",
    "    temp_value = ts_data_1['unitless'][i]\n",
    "    if temp_value != temp_value_second:\n",
    "        cp_1.append(1)\n",
    "    else:\n",
    "        cp_1.append(0)\n",
    "    temp_value_second = temp_value\n",
    "cp_1[0] = 0\n",
    "# cp_2 = []\n",
    "# peaks, _ = find_peaks(ts_data_2['EcgWaveform'], distance=250)\n",
    "# for i in range(len(ts_data_2)):\n",
    "#     if i not in peaks:\n",
    "#         cp_2.append(0)\n",
    "#     else:\n",
    "#         cp_2.append(1)\n",
    "ts_data_1['change_points'] = cp_1\n",
    "# ts_data_2['change_points'] = cp_2\n",
    "print(f'A number of datasets: {2}\\n')\n",
    "print(f'Shape of the well dataset: {ts_data_1.shape}\\n')\n",
    "# print(f'Shape of the medical dataset: {ts_data_2.shape}\\n')\n",
    "n_cp_1 = cp_1.count(1)\n",
    "# n_cp_2 = cp_2.count(1)\n",
    "print(f'A number of changepoints in the well dataset: {n_cp_1}\\n')\n",
    "# print(f'A number of changepoints in the medical dataset: {n_cp_2}\\n')\n",
    "print(f'Head of the well dataset:')\n",
    "display(ts_data_1.head())\n",
    "# print(f'Head of the well dataset:')\n",
    "# display(ts_data_2.head())"
   ]
  },
  {
   "cell_type": "code",
   "execution_count": 38,
   "metadata": {
    "colab": {
     "base_uri": "https://localhost:8080/",
     "height": 404
    },
    "id": "uSjddD1SB6JI",
    "outputId": "0e58f99b-df69-4a3a-9728-eb00cfdf55ae"
   },
   "outputs": [
    {
     "data": {
      "image/png": "[encoded data removed]",
      "text/plain": [
       "<Figure size 1200x600 with 1 Axes>"
      ]
     },
     "metadata": {},
     "output_type": "display_data"
    }
   ],
   "source": [
    "# well dataset visualizing\n",
    "ts_data_1.plot(figsize=(12,6))\n",
    "plt.xlabel('Time')\n",
    "plt.ylabel('Value')\n",
    "plt.title('Signals')\n",
    "plt.show()"
   ]
  },
  {
   "cell_type": "code",
   "execution_count": 39,
   "metadata": {
    "colab": {
     "base_uri": "https://localhost:8080/",
     "height": 404
    },
    "id": "lomltk0XB8Aw",
    "outputId": "f1336c5a-9a01-43b1-8d9d-7eace37b03d9"
   },
   "outputs": [],
   "source": [
    "# # medical dataset visualizing\n",
    "# ts_data_2.plot(figsize=(12,6))\n",
    "# plt.xlabel('Time')\n",
    "# plt.ylabel('Value')\n",
    "# plt.title('Signals')\n",
    "# plt.show()"
   ]
  },
  {
   "cell_type": "code",
   "execution_count": 40,
   "metadata": {
    "id": "lsYw9uS3CAJq"
   },
   "outputs": [],
   "source": [
    "# list_of_df = [ts_data_1[['change_points','uR/h','ohmm']], ts_data_2.drop('Time', axis=1)]\n",
    "list_of_df = ts_data_1"
   ]
  },
  {
   "cell_type": "markdown",
   "metadata": {},
   "source": [
    "# Method applying"
   ]
  },
  {
   "cell_type": "code",
   "execution_count": 41,
   "metadata": {
    "id": "ti2Kbi3_CBr6"
   },
   "outputs": [],
   "source": [
    "from tensorflow import keras\n",
    "from tensorflow.keras import backend as K\n",
    "from tensorflow.keras.models import Sequential, Model\n",
    "from tensorflow.keras.layers import Input, LSTM, RepeatVector\n",
    "from tensorflow.keras.layers import Flatten, Dense, Dropout, Lambda\n",
    "from tensorflow.keras.optimizers import SGD, RMSprop, Adam\n",
    "from tensorflow.keras import losses\n",
    "from tensorflow.python.framework.ops import disable_eager_execution\n",
    "disable_eager_execution()\n",
    "\n",
    "from sklearn.metrics import mean_absolute_error, mean_squared_error\n",
    "from sklearn import decomposition\n",
    "from sklearn.model_selection import train_test_split\n",
    "from sklearn.preprocessing import StandardScaler\n",
    "\n",
    "import numpy as np\n",
    "\n",
    "from scipy.signal import medfilt\n",
    "\n",
    "from tqdm import tqdm\n",
    "\n",
    "import warnings\n",
    "warnings.filterwarnings(\"ignore\")"
   ]
  },
  {
   "cell_type": "code",
   "execution_count": 42,
   "metadata": {
    "id": "Vy4OoNKuCF47"
   },
   "outputs": [],
   "source": [
    "# Function for repeatability\n",
    "def Random(seed_value):\n",
    "    # 1. Set `PYTHONHASHSEED` environment variable at a fixed value\n",
    "    import os\n",
    "    os.environ['PYTHONHASHSEED']=str(seed_value)\n",
    "\n",
    "    # 2. Set `python` built-in pseudo-random generator at a fixed value\n",
    "    import random\n",
    "    random.seed(seed_value)\n",
    "\n",
    "    # 3. Set `numpy` pseudo-random generator at a fixed value\n",
    "    import numpy as np\n",
    "    np.random.seed(seed_value)\n",
    "\n",
    "    # 4. Set `tensorflow` pseudo-random generator at a fixed value\n",
    "    import tensorflow as tf\n",
    "    tf.random.set_seed(seed_value)"
   ]
  },
  {
   "cell_type": "code",
   "execution_count": 43,
   "metadata": {
    "id": "n4NHRJbHCIq-"
   },
   "outputs": [],
   "source": [
    "def create_lstm_vae(input_dim, \n",
    "    timesteps, \n",
    "    batch_size, \n",
    "    intermediate_dim, \n",
    "    latent_dim,\n",
    "    epsilon_std):\n",
    "\n",
    "    \"\"\"\n",
    "    Creates an LSTM Variational Autoencoder (VAE). Returns VAE, Encoder, Generator. \n",
    "    # Arguments\n",
    "        input_dim: int.\n",
    "        timesteps: int, input timestep dimension.\n",
    "        batch_size: int.\n",
    "        intermediate_dim: int, output shape of LSTM. \n",
    "        latent_dim: int, latent z-layer shape. \n",
    "        epsilon_std: float, z-layer sigma.\n",
    "    # References\n",
    "        - [Building Autoencoders in Keras](https://blog.keras.io/building-autoencoders-in-keras.html)\n",
    "        - [Generating sentences from a continuous space](https://arxiv.org/abs/1511.06349)\n",
    "    \"\"\"\n",
    "    x = Input(shape=(timesteps, input_dim,))\n",
    "\n",
    "    # LSTM encoding\n",
    "    h = LSTM(intermediate_dim)(x)\n",
    "\n",
    "    # VAE Z layer\n",
    "    z_mean = Dense(latent_dim)(h)\n",
    "    z_log_sigma = Dense(latent_dim)(h)\n",
    "    \n",
    "    def sampling(args):\n",
    "        z_mean, z_log_sigma = args\n",
    "        epsilon = K.random_normal(shape=(batch_size, latent_dim),\n",
    "                                  mean=0., stddev=epsilon_std)\n",
    "        return z_mean + z_log_sigma * epsilon\n",
    "\n",
    "    # note that \"output_shape\" isn't necessary with the TensorFlow backend\n",
    "    # so you could write `Lambda(sampling)([z_mean, z_log_sigma])`\n",
    "    z = Lambda(sampling, output_shape=(latent_dim,))([z_mean, z_log_sigma])\n",
    "    \n",
    "    # decoded LSTM layer\n",
    "    decoder_h = LSTM(intermediate_dim, return_sequences=True)\n",
    "    decoder_mean = LSTM(input_dim, return_sequences=True)\n",
    "\n",
    "    h_decoded = RepeatVector(timesteps)(z)\n",
    "    h_decoded = decoder_h(h_decoded)\n",
    "\n",
    "    # decoded layer\n",
    "    x_decoded_mean = decoder_mean(h_decoded)\n",
    "    \n",
    "    # end-to-end autoencoder\n",
    "    vae = Model(x, x_decoded_mean)\n",
    "\n",
    "    # encoder, from inputs to latent space\n",
    "    encoder = Model(x, z_mean)\n",
    "\n",
    "    # generator, from latent space to reconstructed inputs\n",
    "    decoder_input = Input(shape=(latent_dim,))\n",
    "\n",
    "    _h_decoded = RepeatVector(timesteps)(decoder_input)\n",
    "    _h_decoded = decoder_h(_h_decoded)\n",
    "\n",
    "    _x_decoded_mean = decoder_mean(_h_decoded)\n",
    "    generator = Model(decoder_input, _x_decoded_mean)\n",
    "    \n",
    "    def vae_loss(x, x_decoded_mean):\n",
    "        mse = losses.MeanSquaredError()\n",
    "        xent_loss = mse(x, x_decoded_mean)\n",
    "        kl_loss = - 0.5 * K.mean(1 + z_log_sigma - K.square(z_mean) - K.exp(z_log_sigma))\n",
    "        loss = xent_loss + kl_loss\n",
    "        return loss\n",
    "\n",
    "    vae.compile(optimizer='rmsprop', loss=vae_loss)\n",
    "    \n",
    "    return vae, encoder, generator"
   ]
  },
  {
   "cell_type": "code",
   "execution_count": 44,
   "metadata": {
    "id": "0xM2abawCLM_"
   },
   "outputs": [],
   "source": [
    "def arch(data):\n",
    "    Random(0)\n",
    "    \n",
    "    input_dim = data.shape[-1] # 13\n",
    "    timesteps = data.shape[1] # 3\n",
    "    BATCH_SIZE = 1\n",
    "    \n",
    "    model, enc, gen = create_lstm_vae(input_dim, \n",
    "        timesteps=timesteps, \n",
    "        batch_size=BATCH_SIZE, \n",
    "        intermediate_dim=32,\n",
    "        latent_dim=100,\n",
    "        epsilon_std=1.)\n",
    "\n",
    "    history = model.fit(\n",
    "        data,\n",
    "        data,\n",
    "        epochs=20,\n",
    "        batch_size=BATCH_SIZE,\n",
    "        validation_split=0.1,\n",
    "        verbose=0,\n",
    "        callbacks=[\n",
    "            keras.callbacks.EarlyStopping(monitor=\"val_loss\", patience=5, mode=\"min\", verbose=0)\n",
    "        ],\n",
    "    )\n",
    "    return history, model"
   ]
  },
  {
   "cell_type": "code",
   "execution_count": 45,
   "metadata": {
    "id": "xvrrkpcuCNKp"
   },
   "outputs": [],
   "source": [
    "# Generated training sequences for use in the model.\n",
    "def create_sequences(values, time_steps):\n",
    "    output = []\n",
    "    for i in range(len(values) - time_steps + 1):\n",
    "        output.append(values[i : (i + time_steps)])\n",
    "    return np.stack(output)"
   ]
  },
  {
   "cell_type": "code",
   "execution_count": 46,
   "metadata": {
    "colab": {
     "base_uri": "https://localhost:8080/"
    },
    "id": "KFtElAXnCPyY",
    "outputId": "7a3dba1e-f85d-422e-a1b2-eb15bb5481aa"
   },
   "outputs": [
    {
     "name": "stderr",
     "output_type": "stream",
     "text": [
      "2023-04-03 16:47:12.266148: W tensorflow/c/c_api.cc:300] Operation '{name:'training_2/RMSprop/lstm_4/lstm_cell_4/kernel/rms/Assign' id:3827 op device:{requested: '', assigned: ''} def:{{{node training_2/RMSprop/lstm_4/lstm_cell_4/kernel/rms/Assign}} = AssignVariableOp[_has_manual_control_dependencies=true, dtype=DT_FLOAT, validate_shape=false](training_2/RMSprop/lstm_4/lstm_cell_4/kernel/rms, training_2/RMSprop/lstm_4/lstm_cell_4/kernel/rms/Initializer/zeros)}}' was changed by setting attribute after it was run by a session. This mutation will have no effect, and will trigger an error in the future. Either don't modify nodes after running them or create a new session.\n",
      "2023-04-03 16:47:13.662323: W tensorflow/c/c_api.cc:300] Operation '{name:'loss_1/mul' id:3335 op device:{requested: '', assigned: ''} def:{{{node loss_1/mul}} = Mul[T=DT_FLOAT, _has_manual_control_dependencies=true](loss_1/mul/x, loss_1/lstm_5_loss/value)}}' was changed by setting attribute after it was run by a session. This mutation will have no effect, and will trigger an error in the future. Either don't modify nodes after running them or create a new session.\n",
      "2023-04-03 16:47:30.693091: W tensorflow/c/c_api.cc:300] Operation '{name:'lstm_5/transpose_1' id:2877 op device:{requested: '', assigned: ''} def:{{{node lstm_5/transpose_1}} = Transpose[T=DT_FLOAT, Tperm=DT_INT32, _has_manual_control_dependencies=true](lstm_5/TensorArrayV2Stack/TensorListStack, lstm_5/transpose_1/perm)}}' was changed by setting attribute after it was run by a session. This mutation will have no effect, and will trigger an error in the future. Either don't modify nodes after running them or create a new session.\n"
     ]
    }
   ],
   "source": [
    "# hyperparameters selection\n",
    "N_STEPS = 5\n",
    "Q = 0.999 # quantile for upper control limit (UCL) selection\n",
    "\n",
    "# inference\n",
    "predicted_outlier, predicted_cp = [], []\n",
    "# for df in tqdm(list_of_df, desc='1st loop'):\n",
    "X_train = df_[:400].drop(['change_points'], axis=1)\n",
    "\n",
    "# scaler init and fitting\n",
    "StSc = StandardScaler()\n",
    "StSc.fit(X_train)\n",
    "\n",
    "# convert into input/output\n",
    "X = create_sequences(StSc.transform(X_train), N_STEPS)\n",
    "\n",
    "# model defining and fitting\n",
    "history, model = arch(X)\n",
    "\n",
    "# results predicting\n",
    "residuals = pd.Series(np.sum(np.mean(np.abs(X - model.predict(X)), axis=1), axis=1))\n",
    "UCL = residuals.quantile(Q)\n",
    "\n",
    "# results predicting\n",
    "X = create_sequences(StSc.transform(df_.drop(['change_points'], axis=1)), N_STEPS)\n",
    "cnn_residuals = pd.Series(np.sum(np.mean(np.abs(X - model.predict(X)), axis=1), axis=1))\n",
    "\n",
    "# data i is an anomaly if samples [(i - timesteps + 1) to (i)] are anomalies\n",
    "anomalous_data = cnn_residuals > (3/2 * UCL)\n",
    "anomalous_data_indices = []\n",
    "for data_idx in range(N_STEPS - 1, len(X) - N_STEPS + 1):\n",
    "    if np.all(anomalous_data[data_idx - N_STEPS + 1 : data_idx]):\n",
    "        anomalous_data_indices.append(data_idx)\n",
    "\n",
    "prediction = pd.Series(data=0, index=df_.index)\n",
    "prediction.iloc[anomalous_data_indices] = 1\n",
    "\n",
    "# predicted outliers saving\n",
    "predicted_outlier.append(prediction)\n",
    "\n",
    "# predicted CPs saving\n",
    "prediction_cp = abs(prediction.diff())\n",
    "prediction_cp[0] = prediction[0]\n",
    "predicted_cp.append(prediction_cp)"
   ]
  },
  {
   "cell_type": "markdown",
   "metadata": {},
   "source": [
    "# Results"
   ]
  },
  {
   "cell_type": "code",
   "execution_count": 47,
   "metadata": {
    "colab": {
     "base_uri": "https://localhost:8080/",
     "height": 211
    },
    "id": "4VQeVZW_ChRt",
    "outputId": "f7aeb086-bb13-4da4-ca0d-d1cd29238040"
   },
   "outputs": [
    {
     "data": {
      "image/png": "[encoded data removed]",
      "text/plain": [
       "<Figure size 1200x300 with 1 Axes>"
      ]
     },
     "metadata": {},
     "output_type": "display_data"
    }
   ],
   "source": [
    "# true changepoint indices selection\n",
    "true_cp = df_.change_points\n",
    "\n",
    "predicted_cp[0].plot(figsize=(12, 3), label='predictions', marker='o', markersize=5)\n",
    "true_cp.plot(marker='o', markersize=2)\n",
    "plt.legend();\n"
   ]
  },
  {
   "cell_type": "code",
   "execution_count": 50,
   "metadata": {},
   "outputs": [],
   "source": [
    "predicted_cp[0] = [int(i) for i in predicted_cp[0]]"
   ]
  },
  {
   "cell_type": "code",
   "execution_count": 51,
   "metadata": {
    "colab": {
     "base_uri": "https://localhost:8080/",
     "height": 211
    },
    "id": "wWT8RNNFCxPW",
    "outputId": "591623f4-960a-4613-d96a-216ec475da63"
   },
   "outputs": [],
   "source": [
    "# # true changepoint indices selection\n",
    "# true_cp = [df.change_points for df in list_of_df]\n",
    "\n",
    "# predicted_cp[1].plot(figsize=(12, 3), label='predictions', marker='o', markersize=5)\n",
    "# true_cp[1].plot(marker='o', markersize=2)\n",
    "# plt.legend();"
   ]
  },
  {
   "cell_type": "markdown",
   "metadata": {},
   "source": [
    "# Metrics calculation"
   ]
  },
  {
   "cell_type": "code",
   "execution_count": 52,
   "metadata": {
    "id": "k6kSSEUkCy1w"
   },
   "outputs": [],
   "source": [
    "from datetime import datetime, timedelta"
   ]
  },
  {
   "cell_type": "code",
   "execution_count": 53,
   "metadata": {
    "id": "6uRGrmqgC5kM"
   },
   "outputs": [],
   "source": [
    "t_0 = np.arange(len(true_cp)).astype('datetime64[s]')\n",
    "df_0 = pd.DataFrame(index=t_0, columns=['predicted_cp'])\n",
    "df_0['predicted_cp'] = np.array(predicted_cp[0])\n",
    "df_0['true_cp'] = np.array(true_cp)"
   ]
  },
  {
   "cell_type": "code",
   "execution_count": 54,
   "metadata": {
    "colab": {
     "base_uri": "https://localhost:8080/"
    },
    "id": "Kw_dxN8oEqyt",
    "outputId": "a221356f-01b6-4dd6-85f3-6281c807a7a2"
   },
   "outputs": [
    {
     "name": "stdout",
     "output_type": "stream",
     "text": [
      "Intersection of scoring windows(Timestamp('1970-01-01 00:18:00'), Timestamp('1970-01-01 00:17:54'))\n",
      "Intersection of scoring windows(Timestamp('1970-01-01 00:18:24'), Timestamp('1970-01-01 00:18:16'))\n",
      "Intersection of scoring windows(Timestamp('1970-01-01 00:18:46'), Timestamp('1970-01-01 00:18:31'))\n",
      "Intersection of scoring windows(Timestamp('1970-01-01 00:19:01'), Timestamp('1970-01-01 00:18:45'))\n",
      "Intersection of scoring windows(Timestamp('1970-01-01 00:19:15'), Timestamp('1970-01-01 00:19:01'))\n",
      "Intersection of scoring windows(Timestamp('1970-01-01 00:19:31'), Timestamp('1970-01-01 00:19:13'))\n",
      "Intersection of scoring windows(Timestamp('1970-01-01 00:23:33'), Timestamp('1970-01-01 00:23:25'))\n",
      "Intersection of scoring windows(Timestamp('1970-01-01 00:30:52'), Timestamp('1970-01-01 00:30:47'))\n",
      "Intersection of scoring windows(Timestamp('1970-01-01 00:36:01'), Timestamp('1970-01-01 00:36:01'))\n",
      "Intersection of scoring windows(Timestamp('1970-01-01 00:53:29'), Timestamp('1970-01-01 00:53:17'))\n",
      "Intersection of scoring windows(Timestamp('1970-01-01 00:59:17'), Timestamp('1970-01-01 00:59:05'))\n",
      "Intersection of scoring windows(Timestamp('1970-01-01 01:29:45'), Timestamp('1970-01-01 01:29:32'))\n",
      "Intersection of scoring windows(Timestamp('1970-01-01 02:14:41'), Timestamp('1970-01-01 02:14:40'))\n",
      "Standart  -  7.04\n",
      "LowFP  -  3.93\n",
      "LowFN  -  9.82\n"
     ]
    }
   ],
   "source": [
    "# nab metric calculation\n",
    "nab = evaluating(df_0['true_cp'], df_0['predicted_cp'], metric='nab', numenta_time='30 sec')"
   ]
  },
  {
   "cell_type": "code",
   "execution_count": 55,
   "metadata": {
    "colab": {
     "base_uri": "https://localhost:8080/"
    },
    "id": "JQPwUWEVGZnb",
    "outputId": "dbfeb859-69b8-4f6f-97de-505380f7623a"
   },
   "outputs": [
    {
     "name": "stdout",
     "output_type": "stream",
     "text": [
      "Intersection of scoring windows(Timestamp('1970-01-01 00:18:00'), Timestamp('1970-01-01 00:17:54'))\n",
      "Intersection of scoring windows(Timestamp('1970-01-01 00:18:24'), Timestamp('1970-01-01 00:18:16'))\n",
      "Intersection of scoring windows(Timestamp('1970-01-01 00:18:46'), Timestamp('1970-01-01 00:18:31'))\n",
      "Intersection of scoring windows(Timestamp('1970-01-01 00:19:01'), Timestamp('1970-01-01 00:18:45'))\n",
      "Intersection of scoring windows(Timestamp('1970-01-01 00:19:15'), Timestamp('1970-01-01 00:19:01'))\n",
      "Intersection of scoring windows(Timestamp('1970-01-01 00:19:31'), Timestamp('1970-01-01 00:19:13'))\n",
      "Intersection of scoring windows(Timestamp('1970-01-01 00:23:33'), Timestamp('1970-01-01 00:23:25'))\n",
      "Intersection of scoring windows(Timestamp('1970-01-01 00:30:52'), Timestamp('1970-01-01 00:30:47'))\n",
      "Intersection of scoring windows(Timestamp('1970-01-01 00:36:01'), Timestamp('1970-01-01 00:36:01'))\n",
      "Intersection of scoring windows(Timestamp('1970-01-01 00:53:29'), Timestamp('1970-01-01 00:53:17'))\n",
      "Intersection of scoring windows(Timestamp('1970-01-01 00:59:17'), Timestamp('1970-01-01 00:59:05'))\n",
      "Intersection of scoring windows(Timestamp('1970-01-01 01:29:45'), Timestamp('1970-01-01 01:29:32'))\n",
      "Intersection of scoring windows(Timestamp('1970-01-01 02:14:41'), Timestamp('1970-01-01 02:14:40'))\n",
      "Amount of true anomalies 52\n",
      "A number of missed CPs = 44\n",
      "A number of FPs = 24\n",
      "Average time 0 days 00:00:11.500000\n"
     ]
    }
   ],
   "source": [
    "# average detection delay metric calculation\n",
    "add = evaluating(df_0['true_cp'], df_0['predicted_cp'], metric='average_time', numenta_time='30 sec')"
   ]
  },
  {
   "cell_type": "markdown",
   "metadata": {
    "id": "7fVwBt7gGk55"
   },
   "source": [
    "# 2023 NIR Results"
   ]
  },
  {
   "cell_type": "code",
   "execution_count": 56,
   "metadata": {},
   "outputs": [],
   "source": [
    "def f1_evaluation(df):\n",
    "    averate_time, missed_cp, FPs, true_anomalies = evaluating(df['true_cp'], df['predicted_cp'], metric='average_time', numenta_time='30 sec')\n",
    "    TP = true_anomalies - missed_cp\n",
    "    if TP == 0:\n",
    "        F1 = 0\n",
    "        precision = 0\n",
    "        recall = 0\n",
    "    else:\n",
    "        precision = TP/(TP+FPs)\n",
    "        recall = TP/(TP+missed_cp)\n",
    "        F1 =  2*precision*recall/(precision+recall)\n",
    "    return F1, precision, recall"
   ]
  },
  {
   "cell_type": "code",
   "execution_count": 57,
   "metadata": {},
   "outputs": [
    {
     "name": "stdout",
     "output_type": "stream",
     "text": [
      "Intersection of scoring windows(Timestamp('1970-01-01 00:18:00'), Timestamp('1970-01-01 00:17:54'))\n",
      "Intersection of scoring windows(Timestamp('1970-01-01 00:18:24'), Timestamp('1970-01-01 00:18:16'))\n",
      "Intersection of scoring windows(Timestamp('1970-01-01 00:18:46'), Timestamp('1970-01-01 00:18:31'))\n",
      "Intersection of scoring windows(Timestamp('1970-01-01 00:19:01'), Timestamp('1970-01-01 00:18:45'))\n",
      "Intersection of scoring windows(Timestamp('1970-01-01 00:19:15'), Timestamp('1970-01-01 00:19:01'))\n",
      "Intersection of scoring windows(Timestamp('1970-01-01 00:19:31'), Timestamp('1970-01-01 00:19:13'))\n",
      "Intersection of scoring windows(Timestamp('1970-01-01 00:23:33'), Timestamp('1970-01-01 00:23:25'))\n",
      "Intersection of scoring windows(Timestamp('1970-01-01 00:30:52'), Timestamp('1970-01-01 00:30:47'))\n",
      "Intersection of scoring windows(Timestamp('1970-01-01 00:36:01'), Timestamp('1970-01-01 00:36:01'))\n",
      "Intersection of scoring windows(Timestamp('1970-01-01 00:53:29'), Timestamp('1970-01-01 00:53:17'))\n",
      "Intersection of scoring windows(Timestamp('1970-01-01 00:59:17'), Timestamp('1970-01-01 00:59:05'))\n",
      "Intersection of scoring windows(Timestamp('1970-01-01 01:29:45'), Timestamp('1970-01-01 01:29:32'))\n",
      "Intersection of scoring windows(Timestamp('1970-01-01 02:14:41'), Timestamp('1970-01-01 02:14:40'))\n",
      "Amount of true anomalies 52\n",
      "A number of missed CPs = 44\n",
      "A number of FPs = 24\n",
      "Average time 0 days 00:00:11.500000\n"
     ]
    },
    {
     "data": {
      "text/plain": [
       "(0.1904761904761905, 0.25, 0.15384615384615385)"
      ]
     },
     "execution_count": 57,
     "metadata": {},
     "output_type": "execute_result"
    }
   ],
   "source": [
    "f1_evaluation(df_0)"
   ]
  }
 ],
 "metadata": {
  "colab": {
   "provenance": []
  },
  "kernelspec": {
   "display_name": "Python 3 (ipykernel)",
   "language": "python",
   "name": "python3"
  },
  "language_info": {
   "codemirror_mode": {
    "name": "ipython",
    "version": 3
   },
   "file_extension": ".py",
   "mimetype": "text/x-python",
   "name": "python",
   "nbconvert_exporter": "python",
   "pygments_lexer": "ipython3",
   "version": "3.10.6"
  }
 },
 "nbformat": 4,
 "nbformat_minor": 1
}
